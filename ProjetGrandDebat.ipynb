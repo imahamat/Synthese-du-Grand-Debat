{
  "nbformat": 4,
  "nbformat_minor": 0,
  "metadata": {
    "colab": {
      "name": "ProjetGrandDebat.ipynb",
      "provenance": [],
      "collapsed_sections": []
    },
    "kernelspec": {
      "name": "python3",
      "display_name": "Python 3"
    }
  },
  "cells": [
    {
      "cell_type": "code",
      "metadata": {
        "id": "M_ncZL5_RmcE",
        "colab_type": "code",
        "outputId": "658c4b19-74b6-49ca-ecdb-5f77335022ac",
        "colab": {
          "base_uri": "https://localhost:8080/",
          "height": 49
        }
      },
      "source": [
        "%tensorflow_version 2.x\n",
        "import tensorflow as tf\n",
        "print(tf.__version__)"
      ],
      "execution_count": 0,
      "outputs": [
        {
          "output_type": "stream",
          "text": [
            "TensorFlow 2.x selected.\n",
            "2.1.0-rc1\n"
          ],
          "name": "stdout"
        }
      ]
    },
    {
      "cell_type": "code",
      "metadata": {
        "id": "dDCIr2GgRxhW",
        "colab_type": "code",
        "outputId": "71a31f05-0539-48fc-a38e-a822ad1388fe",
        "colab": {
          "base_uri": "https://localhost:8080/",
          "height": 32
        }
      },
      "source": [
        "from __future__ import absolute_import, division, print_function, unicode_literals\n",
        "from google.colab import files\n",
        "import numpy as np\n",
        "import tensorflow_datasets as tfds\n",
        "import tensorflow as tf\n",
        "import pandas as pd\n",
        "import matplotlib.pyplot as plt\n",
        "import os\n",
        "import io\n",
        "from tensorflow import keras\n",
        "from tensorflow.keras import layers\n",
        "import keras.preprocessing.text\n",
        "import tensorflow.keras.backend as K\n",
        "from keras.preprocessing.text import Tokenizer\n",
        "from keras.preprocessing.sequence import pad_sequences\n",
        "from sklearn.metrics import classification_report\n",
        "from sklearn.metrics import confusion_matrix as cm\n",
        "from sklearn.metrics import multilabel_confusion_matrix as mcm\n",
        "import tensorflow_hub as hub\n",
        "tf.keras.backend.clear_session()\n",
        "np.set_printoptions(precision=3, suppress=True)\n",
        "pd.options.display.max_colwidth = 1000"
      ],
      "execution_count": 0,
      "outputs": [
        {
          "output_type": "stream",
          "text": [
            "Using TensorFlow backend.\n"
          ],
          "name": "stderr"
        }
      ]
    },
    {
      "cell_type": "code",
      "metadata": {
        "id": "cK9MBNIzRy0a",
        "colab_type": "code",
        "outputId": "159b9a77-edc6-43c5-e4a4-3c554cc95094",
        "colab": {
          "base_uri": "https://localhost:8080/",
          "height": 32
        }
      },
      "source": [
        "print(tf.__version__)"
      ],
      "execution_count": 0,
      "outputs": [
        {
          "output_type": "stream",
          "text": [
            "2.1.0-rc1\n"
          ],
          "name": "stdout"
        }
      ]
    },
    {
      "cell_type": "code",
      "metadata": {
        "id": "KEIZAnr6R0U8",
        "colab_type": "code",
        "outputId": "4f3774d0-56b5-4386-a54e-29f95ed7b104",
        "colab": {
          "base_uri": "https://localhost:8080/",
          "height": 49
        }
      },
      "source": [
        "contribution_1 = pd.read_csv('https://www.data.gouv.fr/fr/datasets/r/b687441f-bad7-451c-851c-122619f6fa6e')"
      ],
      "execution_count": 0,
      "outputs": [
        {
          "output_type": "stream",
          "text": [
            "/usr/local/lib/python3.6/dist-packages/IPython/core/interactiveshell.py:2718: DtypeWarning: Columns (7) have mixed types. Specify dtype option on import or set low_memory=False.\n",
            "  interactivity=interactivity, compiler=compiler, result=result)\n"
          ],
          "name": "stderr"
        }
      ]
    },
    {
      "cell_type": "code",
      "metadata": {
        "id": "3YczUIIHR1_U",
        "colab_type": "code",
        "colab": {}
      },
      "source": [
        "contribution_1.replace(\"?\", np.nan, inplace = True)"
      ],
      "execution_count": 0,
      "outputs": []
    },
    {
      "cell_type": "code",
      "metadata": {
        "id": "Bnd5NT9wR33b",
        "colab_type": "code",
        "outputId": "7c23e9a6-eb19-4020-cb1b-224781b28500",
        "colab": {
          "base_uri": "https://localhost:8080/",
          "height": 69
        }
      },
      "source": [
        "import random \n",
        "import numpy as np \n",
        "import matplotlib.pyplot as plt \n",
        "from sklearn.cluster import KMeans \n",
        "from sklearn.datasets.samples_generator import make_blobs \n",
        "%matplotlib inline"
      ],
      "execution_count": 0,
      "outputs": [
        {
          "output_type": "stream",
          "text": [
            "/usr/local/lib/python3.6/dist-packages/sklearn/utils/deprecation.py:144: FutureWarning: The sklearn.datasets.samples_generator module is  deprecated in version 0.22 and will be removed in version 0.24. The corresponding classes / functions should instead be imported from sklearn.datasets. Anything that cannot be imported from sklearn.datasets is now part of the private API.\n",
            "  warnings.warn(message, FutureWarning)\n"
          ],
          "name": "stderr"
        }
      ]
    },
    {
      "cell_type": "code",
      "metadata": {
        "id": "NsaiSaeKSAVv",
        "colab_type": "code",
        "colab": {}
      },
      "source": [
        "np.random.seed(0)"
      ],
      "execution_count": 0,
      "outputs": []
    },
    {
      "cell_type": "code",
      "metadata": {
        "id": "-QUa8B8aSSbg",
        "colab_type": "code",
        "colab": {}
      },
      "source": [
        "df_questions_fermes= contribution_1.iloc[:,[14,12,17,18,22,23,26,28]]"
      ],
      "execution_count": 0,
      "outputs": []
    },
    {
      "cell_type": "code",
      "metadata": {
        "id": "nEq0QMThVFkq",
        "colab_type": "code",
        "colab": {}
      },
      "source": [
        "df_questions_fermes= df_questions_fermes.fillna('ex nan')"
      ],
      "execution_count": 0,
      "outputs": []
    },
    {
      "cell_type": "code",
      "metadata": {
        "id": "wC_cko25SViI",
        "colab_type": "code",
        "outputId": "7989467c-6550-42cd-ee32-88d25818971c",
        "colab": {
          "base_uri": "https://localhost:8080/",
          "height": 300
        }
      },
      "source": [
        "df_questions_fermes.head()"
      ],
      "execution_count": 0,
      "outputs": [
        {
          "output_type": "execute_result",
          "data": {
            "text/html": [
              "<div>\n",
              "<style scoped>\n",
              "    .dataframe tbody tr th:only-of-type {\n",
              "        vertical-align: middle;\n",
              "    }\n",
              "\n",
              "    .dataframe tbody tr th {\n",
              "        vertical-align: top;\n",
              "    }\n",
              "\n",
              "    .dataframe thead th {\n",
              "        text-align: right;\n",
              "    }\n",
              "</style>\n",
              "<table border=\"1\" class=\"dataframe\">\n",
              "  <thead>\n",
              "    <tr style=\"text-align: right;\">\n",
              "      <th></th>\n",
              "      <th>QUXVlc3Rpb246MjA0 - Estimez-vous avoir accès aux services publics dont vous avez besoin ?</th>\n",
              "      <th>QUXVlc3Rpb246MTcw - Selon vous, l'Etat doit-il aujourd'hui transférer de nouvelles missions aux collectivités territoriales ?</th>\n",
              "      <th>QUXVlc3Rpb246MTc1 - Avez-vous déjà utilisé certaines de ces nouvelles formes de services publics ?</th>\n",
              "      <th>QUXVlc3Rpb246MTc2 - Si oui, en avez-vous été satisfait ?</th>\n",
              "      <th>QUXVlc3Rpb246MTgw - Connaissez-vous le \"droit à l'erreur\", c'est-à-dire le droit d'affirmer votre bonne foi lorsque vous faites un erreur dans vos déclarations ?</th>\n",
              "      <th>QUXVlc3Rpb246MTgx - Si oui, avez-vous déjà utilisé ce droit à l'erreur ?</th>\n",
              "      <th>QUXVlc3Rpb246MTg0 - Faut-il donner plus d'autonomie aux fonctionnaires de terrain ?</th>\n",
              "      <th>QUXVlc3Rpb246MTg2 - Faut-il revoir le fonctionnement et la formation de l'administration ?</th>\n",
              "    </tr>\n",
              "  </thead>\n",
              "  <tbody>\n",
              "    <tr>\n",
              "      <th>0</th>\n",
              "      <td>ex nan</td>\n",
              "      <td>ex nan</td>\n",
              "      <td>ex nan</td>\n",
              "      <td>ex nan</td>\n",
              "      <td>ex nan</td>\n",
              "      <td>ex nan</td>\n",
              "      <td>ex nan</td>\n",
              "      <td>ex nan</td>\n",
              "    </tr>\n",
              "    <tr>\n",
              "      <th>1</th>\n",
              "      <td>Oui</td>\n",
              "      <td>Non</td>\n",
              "      <td>Oui</td>\n",
              "      <td>Oui</td>\n",
              "      <td>Oui</td>\n",
              "      <td>Non</td>\n",
              "      <td>ex nan</td>\n",
              "      <td>ex nan</td>\n",
              "    </tr>\n",
              "    <tr>\n",
              "      <th>2</th>\n",
              "      <td>ex nan</td>\n",
              "      <td>ex nan</td>\n",
              "      <td>ex nan</td>\n",
              "      <td>ex nan</td>\n",
              "      <td>ex nan</td>\n",
              "      <td>ex nan</td>\n",
              "      <td>ex nan</td>\n",
              "      <td>ex nan</td>\n",
              "    </tr>\n",
              "    <tr>\n",
              "      <th>3</th>\n",
              "      <td>ex nan</td>\n",
              "      <td>Non</td>\n",
              "      <td>ex nan</td>\n",
              "      <td>ex nan</td>\n",
              "      <td>ex nan</td>\n",
              "      <td>ex nan</td>\n",
              "      <td>ex nan</td>\n",
              "      <td>ex nan</td>\n",
              "    </tr>\n",
              "    <tr>\n",
              "      <th>4</th>\n",
              "      <td>Oui</td>\n",
              "      <td>Non</td>\n",
              "      <td>Non</td>\n",
              "      <td>ex nan</td>\n",
              "      <td>Oui</td>\n",
              "      <td>Non</td>\n",
              "      <td>ex nan</td>\n",
              "      <td>Oui</td>\n",
              "    </tr>\n",
              "  </tbody>\n",
              "</table>\n",
              "</div>"
            ],
            "text/plain": [
              "  QUXVlc3Rpb246MjA0 - Estimez-vous avoir accès aux services publics dont vous avez besoin ?  ... QUXVlc3Rpb246MTg2 - Faut-il revoir le fonctionnement et la formation de l'administration ?\n",
              "0                                                                                    ex nan  ...                                                                                     ex nan\n",
              "1                                                                                       Oui  ...                                                                                     ex nan\n",
              "2                                                                                    ex nan  ...                                                                                     ex nan\n",
              "3                                                                                    ex nan  ...                                                                                     ex nan\n",
              "4                                                                                       Oui  ...                                                                                        Oui\n",
              "\n",
              "[5 rows x 8 columns]"
            ]
          },
          "metadata": {
            "tags": []
          },
          "execution_count": 10
        }
      ]
    },
    {
      "cell_type": "code",
      "metadata": {
        "id": "94ZIaEK0SjKk",
        "colab_type": "code",
        "colab": {}
      },
      "source": [
        "import random \n",
        "import numpy as np \n",
        "import matplotlib.pyplot as plt \n",
        "from sklearn.cluster import KMeans \n",
        "from sklearn.datasets.samples_generator import make_blobs \n",
        "%matplotlib inline"
      ],
      "execution_count": 0,
      "outputs": []
    },
    {
      "cell_type": "code",
      "metadata": {
        "id": "j6GWKxeASo0e",
        "colab_type": "code",
        "colab": {}
      },
      "source": [
        "np.random.seed(0)"
      ],
      "execution_count": 0,
      "outputs": []
    },
    {
      "cell_type": "code",
      "metadata": {
        "id": "jixdEmoPSqbH",
        "colab_type": "code",
        "colab": {}
      },
      "source": [
        "df_questions_fermes_dummies = pd.get_dummies(df_questions_fermes)"
      ],
      "execution_count": 0,
      "outputs": []
    },
    {
      "cell_type": "code",
      "metadata": {
        "id": "Q7a1T09USwRB",
        "colab_type": "code",
        "outputId": "9000743c-3448-499e-aa22-536620fb7761",
        "colab": {
          "base_uri": "https://localhost:8080/",
          "height": 385
        }
      },
      "source": [
        "df_questions_fermes_dummies.head()"
      ],
      "execution_count": 0,
      "outputs": [
        {
          "output_type": "execute_result",
          "data": {
            "text/html": [
              "<div>\n",
              "<style scoped>\n",
              "    .dataframe tbody tr th:only-of-type {\n",
              "        vertical-align: middle;\n",
              "    }\n",
              "\n",
              "    .dataframe tbody tr th {\n",
              "        vertical-align: top;\n",
              "    }\n",
              "\n",
              "    .dataframe thead th {\n",
              "        text-align: right;\n",
              "    }\n",
              "</style>\n",
              "<table border=\"1\" class=\"dataframe\">\n",
              "  <thead>\n",
              "    <tr style=\"text-align: right;\">\n",
              "      <th></th>\n",
              "      <th>QUXVlc3Rpb246MjA0 - Estimez-vous avoir accès aux services publics dont vous avez besoin ?_Non</th>\n",
              "      <th>QUXVlc3Rpb246MjA0 - Estimez-vous avoir accès aux services publics dont vous avez besoin ?_Oui</th>\n",
              "      <th>QUXVlc3Rpb246MjA0 - Estimez-vous avoir accès aux services publics dont vous avez besoin ?_ex nan</th>\n",
              "      <th>QUXVlc3Rpb246MTcw - Selon vous, l'Etat doit-il aujourd'hui transférer de nouvelles missions aux collectivités territoriales ?_Non</th>\n",
              "      <th>QUXVlc3Rpb246MTcw - Selon vous, l'Etat doit-il aujourd'hui transférer de nouvelles missions aux collectivités territoriales ?_Oui</th>\n",
              "      <th>QUXVlc3Rpb246MTcw - Selon vous, l'Etat doit-il aujourd'hui transférer de nouvelles missions aux collectivités territoriales ?_ex nan</th>\n",
              "      <th>QUXVlc3Rpb246MTc1 - Avez-vous déjà utilisé certaines de ces nouvelles formes de services publics ?_Non</th>\n",
              "      <th>QUXVlc3Rpb246MTc1 - Avez-vous déjà utilisé certaines de ces nouvelles formes de services publics ?_Oui</th>\n",
              "      <th>QUXVlc3Rpb246MTc1 - Avez-vous déjà utilisé certaines de ces nouvelles formes de services publics ?_ex nan</th>\n",
              "      <th>QUXVlc3Rpb246MTc2 - Si oui, en avez-vous été satisfait ?_Non</th>\n",
              "      <th>QUXVlc3Rpb246MTc2 - Si oui, en avez-vous été satisfait ?_Oui</th>\n",
              "      <th>QUXVlc3Rpb246MTc2 - Si oui, en avez-vous été satisfait ?_ex nan</th>\n",
              "      <th>QUXVlc3Rpb246MTgw - Connaissez-vous le \"droit à l'erreur\", c'est-à-dire le droit d'affirmer votre bonne foi lorsque vous faites un erreur dans vos déclarations ?_Non</th>\n",
              "      <th>QUXVlc3Rpb246MTgw - Connaissez-vous le \"droit à l'erreur\", c'est-à-dire le droit d'affirmer votre bonne foi lorsque vous faites un erreur dans vos déclarations ?_Oui</th>\n",
              "      <th>QUXVlc3Rpb246MTgw - Connaissez-vous le \"droit à l'erreur\", c'est-à-dire le droit d'affirmer votre bonne foi lorsque vous faites un erreur dans vos déclarations ?_ex nan</th>\n",
              "      <th>QUXVlc3Rpb246MTgx - Si oui, avez-vous déjà utilisé ce droit à l'erreur ?_Non</th>\n",
              "      <th>QUXVlc3Rpb246MTgx - Si oui, avez-vous déjà utilisé ce droit à l'erreur ?_Oui</th>\n",
              "      <th>QUXVlc3Rpb246MTgx - Si oui, avez-vous déjà utilisé ce droit à l'erreur ?_ex nan</th>\n",
              "      <th>QUXVlc3Rpb246MTg0 - Faut-il donner plus d'autonomie aux fonctionnaires de terrain ?_Non</th>\n",
              "      <th>QUXVlc3Rpb246MTg0 - Faut-il donner plus d'autonomie aux fonctionnaires de terrain ?_Oui</th>\n",
              "      <th>QUXVlc3Rpb246MTg0 - Faut-il donner plus d'autonomie aux fonctionnaires de terrain ?_ex nan</th>\n",
              "      <th>QUXVlc3Rpb246MTg2 - Faut-il revoir le fonctionnement et la formation de l'administration ?_Non</th>\n",
              "      <th>QUXVlc3Rpb246MTg2 - Faut-il revoir le fonctionnement et la formation de l'administration ?_Oui</th>\n",
              "      <th>QUXVlc3Rpb246MTg2 - Faut-il revoir le fonctionnement et la formation de l'administration ?_ex nan</th>\n",
              "    </tr>\n",
              "  </thead>\n",
              "  <tbody>\n",
              "    <tr>\n",
              "      <th>0</th>\n",
              "      <td>0</td>\n",
              "      <td>0</td>\n",
              "      <td>1</td>\n",
              "      <td>0</td>\n",
              "      <td>0</td>\n",
              "      <td>1</td>\n",
              "      <td>0</td>\n",
              "      <td>0</td>\n",
              "      <td>1</td>\n",
              "      <td>0</td>\n",
              "      <td>0</td>\n",
              "      <td>1</td>\n",
              "      <td>0</td>\n",
              "      <td>0</td>\n",
              "      <td>1</td>\n",
              "      <td>0</td>\n",
              "      <td>0</td>\n",
              "      <td>1</td>\n",
              "      <td>0</td>\n",
              "      <td>0</td>\n",
              "      <td>1</td>\n",
              "      <td>0</td>\n",
              "      <td>0</td>\n",
              "      <td>1</td>\n",
              "    </tr>\n",
              "    <tr>\n",
              "      <th>1</th>\n",
              "      <td>0</td>\n",
              "      <td>1</td>\n",
              "      <td>0</td>\n",
              "      <td>1</td>\n",
              "      <td>0</td>\n",
              "      <td>0</td>\n",
              "      <td>0</td>\n",
              "      <td>1</td>\n",
              "      <td>0</td>\n",
              "      <td>0</td>\n",
              "      <td>1</td>\n",
              "      <td>0</td>\n",
              "      <td>0</td>\n",
              "      <td>1</td>\n",
              "      <td>0</td>\n",
              "      <td>1</td>\n",
              "      <td>0</td>\n",
              "      <td>0</td>\n",
              "      <td>0</td>\n",
              "      <td>0</td>\n",
              "      <td>1</td>\n",
              "      <td>0</td>\n",
              "      <td>0</td>\n",
              "      <td>1</td>\n",
              "    </tr>\n",
              "    <tr>\n",
              "      <th>2</th>\n",
              "      <td>0</td>\n",
              "      <td>0</td>\n",
              "      <td>1</td>\n",
              "      <td>0</td>\n",
              "      <td>0</td>\n",
              "      <td>1</td>\n",
              "      <td>0</td>\n",
              "      <td>0</td>\n",
              "      <td>1</td>\n",
              "      <td>0</td>\n",
              "      <td>0</td>\n",
              "      <td>1</td>\n",
              "      <td>0</td>\n",
              "      <td>0</td>\n",
              "      <td>1</td>\n",
              "      <td>0</td>\n",
              "      <td>0</td>\n",
              "      <td>1</td>\n",
              "      <td>0</td>\n",
              "      <td>0</td>\n",
              "      <td>1</td>\n",
              "      <td>0</td>\n",
              "      <td>0</td>\n",
              "      <td>1</td>\n",
              "    </tr>\n",
              "    <tr>\n",
              "      <th>3</th>\n",
              "      <td>0</td>\n",
              "      <td>0</td>\n",
              "      <td>1</td>\n",
              "      <td>1</td>\n",
              "      <td>0</td>\n",
              "      <td>0</td>\n",
              "      <td>0</td>\n",
              "      <td>0</td>\n",
              "      <td>1</td>\n",
              "      <td>0</td>\n",
              "      <td>0</td>\n",
              "      <td>1</td>\n",
              "      <td>0</td>\n",
              "      <td>0</td>\n",
              "      <td>1</td>\n",
              "      <td>0</td>\n",
              "      <td>0</td>\n",
              "      <td>1</td>\n",
              "      <td>0</td>\n",
              "      <td>0</td>\n",
              "      <td>1</td>\n",
              "      <td>0</td>\n",
              "      <td>0</td>\n",
              "      <td>1</td>\n",
              "    </tr>\n",
              "    <tr>\n",
              "      <th>4</th>\n",
              "      <td>0</td>\n",
              "      <td>1</td>\n",
              "      <td>0</td>\n",
              "      <td>1</td>\n",
              "      <td>0</td>\n",
              "      <td>0</td>\n",
              "      <td>1</td>\n",
              "      <td>0</td>\n",
              "      <td>0</td>\n",
              "      <td>0</td>\n",
              "      <td>0</td>\n",
              "      <td>1</td>\n",
              "      <td>0</td>\n",
              "      <td>1</td>\n",
              "      <td>0</td>\n",
              "      <td>1</td>\n",
              "      <td>0</td>\n",
              "      <td>0</td>\n",
              "      <td>0</td>\n",
              "      <td>0</td>\n",
              "      <td>1</td>\n",
              "      <td>0</td>\n",
              "      <td>1</td>\n",
              "      <td>0</td>\n",
              "    </tr>\n",
              "  </tbody>\n",
              "</table>\n",
              "</div>"
            ],
            "text/plain": [
              "   QUXVlc3Rpb246MjA0 - Estimez-vous avoir accès aux services publics dont vous avez besoin ?_Non  ...  QUXVlc3Rpb246MTg2 - Faut-il revoir le fonctionnement et la formation de l'administration ?_ex nan\n",
              "0                                                                                              0  ...                                                                                                  1\n",
              "1                                                                                              0  ...                                                                                                  1\n",
              "2                                                                                              0  ...                                                                                                  1\n",
              "3                                                                                              0  ...                                                                                                  1\n",
              "4                                                                                              0  ...                                                                                                  0\n",
              "\n",
              "[5 rows x 24 columns]"
            ]
          },
          "metadata": {
            "tags": []
          },
          "execution_count": 14
        }
      ]
    },
    {
      "cell_type": "code",
      "metadata": {
        "id": "NHs0PkUwSyLR",
        "colab_type": "code",
        "colab": {}
      },
      "source": [
        "from sklearn.decomposition import PCA\n",
        "pca = PCA(n_components=2)"
      ],
      "execution_count": 0,
      "outputs": []
    },
    {
      "cell_type": "code",
      "metadata": {
        "id": "7VxbFtPdS7cP",
        "colab_type": "code",
        "colab": {}
      },
      "source": [
        "principalComponents1 = pca.fit_transform(df_questions_fermes_dummies)\n",
        "principalDf1 = pd.DataFrame(data = principalComponents1\n",
        "             , columns = ['principal component 1', 'principal component 2'])"
      ],
      "execution_count": 0,
      "outputs": []
    },
    {
      "cell_type": "code",
      "metadata": {
        "id": "_p9jxvy1TACS",
        "colab_type": "code",
        "outputId": "63335a55-a7f7-4cf8-fd53-37bd42d9af31",
        "colab": {
          "base_uri": "https://localhost:8080/",
          "height": 522
        }
      },
      "source": [
        "fig = plt.figure(figsize = (8,8))\n",
        "ax = fig.add_subplot(1,1,1) \n",
        "ax.set_xlabel('Principal Component 1', fontsize = 15)\n",
        "ax.set_ylabel('Principal Component 2', fontsize = 15)\n",
        "ax.set_title('2 component PCA', fontsize = 20)\n",
        "ax.scatter(principalDf1.loc[:, 'principal component 1']\n",
        "               , principalDf1.loc[:, 'principal component 2']\n",
        "               , s = 50)\n",
        "ax.grid()"
      ],
      "execution_count": 0,
      "outputs": [
        {
          "output_type": "display_data",
          "data": {
            "image/png": "[encoded data removed]",
            "text/plain": [
              "<Figure size 576x576 with 1 Axes>"
            ]
          },
          "metadata": {
            "tags": []
          }
        }
      ]
    },
    {
      "cell_type": "code",
      "metadata": {
        "id": "s7khxDXMT_2O",
        "colab_type": "code",
        "colab": {}
      },
      "source": [
        "from sklearn.mixture import GaussianMixture"
      ],
      "execution_count": 0,
      "outputs": []
    },
    {
      "cell_type": "code",
      "metadata": {
        "id": "nG_FRNhDTHdo",
        "colab_type": "code",
        "outputId": "2f81f756-8c88-4c2c-ee65-acee42fb0e44",
        "colab": {
          "base_uri": "https://localhost:8080/",
          "height": 278
        }
      },
      "source": [
        "n_components = np.arange(1, 10)\n",
        "models = [GaussianMixture(n, covariance_type='full', max_iter=1000, random_state=1, n_init=8).fit(principalDf1)\n",
        "          for n in n_components]\n",
        "\n",
        "plt.plot(n_components, [m.bic(principalDf1) for m in models], label='BIC')\n",
        "plt.plot(n_components, [m.aic(principalDf1) for m in models], label='AIC')\n",
        "plt.legend(loc='best')\n",
        "plt.xlabel('n_components');"
      ],
      "execution_count": 0,
      "outputs": [
        {
          "output_type": "display_data",
          "data": {
            "image/png": "[encoded data removed]",
            "text/plain": [
              "<Figure size 432x288 with 1 Axes>"
            ]
          },
          "metadata": {
            "tags": []
          }
        }
      ]
    },
    {
      "cell_type": "code",
      "metadata": {
        "id": "9rVlMpykTUxo",
        "colab_type": "code",
        "colab": {}
      },
      "source": [
        "modelGMM = GaussianMixture(n_components=4, max_iter=1000, random_state=1, n_init=12).fit(X=principalDf1)"
      ],
      "execution_count": 0,
      "outputs": []
    },
    {
      "cell_type": "code",
      "metadata": {
        "id": "2cXMONfaTjst",
        "colab_type": "code",
        "colab": {}
      },
      "source": [
        "GMM_labels = modelGMM.predict(principalDf1)"
      ],
      "execution_count": 0,
      "outputs": []
    },
    {
      "cell_type": "code",
      "metadata": {
        "id": "J6jB-3b3Tofl",
        "colab_type": "code",
        "colab": {}
      },
      "source": [
        "df_GMM_labels=pd.DataFrame(GMM_labels)\n",
        "df_GMM_labels.columns = ['targets']"
      ],
      "execution_count": 0,
      "outputs": []
    },
    {
      "cell_type": "code",
      "metadata": {
        "id": "J0q2YKx-U25Q",
        "colab_type": "code",
        "outputId": "19c8dee4-8ad9-4a86-aa0f-84a4ad26a127",
        "colab": {
          "base_uri": "https://localhost:8080/",
          "height": 411
        }
      },
      "source": [
        "finalDf_GMM = pd.concat([principalDf1, df_GMM_labels], axis = 1)\n",
        "finalDf_GMM"
      ],
      "execution_count": 0,
      "outputs": [
        {
          "output_type": "execute_result",
          "data": {
            "text/html": [
              "<div>\n",
              "<style scoped>\n",
              "    .dataframe tbody tr th:only-of-type {\n",
              "        vertical-align: middle;\n",
              "    }\n",
              "\n",
              "    .dataframe tbody tr th {\n",
              "        vertical-align: top;\n",
              "    }\n",
              "\n",
              "    .dataframe thead th {\n",
              "        text-align: right;\n",
              "    }\n",
              "</style>\n",
              "<table border=\"1\" class=\"dataframe\">\n",
              "  <thead>\n",
              "    <tr style=\"text-align: right;\">\n",
              "      <th></th>\n",
              "      <th>principal component 1</th>\n",
              "      <th>principal component 2</th>\n",
              "      <th>targets</th>\n",
              "    </tr>\n",
              "  </thead>\n",
              "  <tbody>\n",
              "    <tr>\n",
              "      <th>0</th>\n",
              "      <td>2.311855</td>\n",
              "      <td>0.067324</td>\n",
              "      <td>1</td>\n",
              "    </tr>\n",
              "    <tr>\n",
              "      <th>1</th>\n",
              "      <td>-0.268450</td>\n",
              "      <td>1.316928</td>\n",
              "      <td>2</td>\n",
              "    </tr>\n",
              "    <tr>\n",
              "      <th>2</th>\n",
              "      <td>2.311855</td>\n",
              "      <td>0.067324</td>\n",
              "      <td>1</td>\n",
              "    </tr>\n",
              "    <tr>\n",
              "      <th>3</th>\n",
              "      <td>1.911771</td>\n",
              "      <td>-0.012739</td>\n",
              "      <td>3</td>\n",
              "    </tr>\n",
              "    <tr>\n",
              "      <th>4</th>\n",
              "      <td>-0.757408</td>\n",
              "      <td>-0.635366</td>\n",
              "      <td>0</td>\n",
              "    </tr>\n",
              "    <tr>\n",
              "      <th>...</th>\n",
              "      <td>...</td>\n",
              "      <td>...</td>\n",
              "      <td>...</td>\n",
              "    </tr>\n",
              "    <tr>\n",
              "      <th>67296</th>\n",
              "      <td>-0.907791</td>\n",
              "      <td>0.422867</td>\n",
              "      <td>3</td>\n",
              "    </tr>\n",
              "    <tr>\n",
              "      <th>67297</th>\n",
              "      <td>2.311855</td>\n",
              "      <td>0.067324</td>\n",
              "      <td>1</td>\n",
              "    </tr>\n",
              "    <tr>\n",
              "      <th>67298</th>\n",
              "      <td>-0.703094</td>\n",
              "      <td>-0.513057</td>\n",
              "      <td>0</td>\n",
              "    </tr>\n",
              "    <tr>\n",
              "      <th>67299</th>\n",
              "      <td>-1.132746</td>\n",
              "      <td>-0.471881</td>\n",
              "      <td>0</td>\n",
              "    </tr>\n",
              "    <tr>\n",
              "      <th>67300</th>\n",
              "      <td>-0.312709</td>\n",
              "      <td>-0.623985</td>\n",
              "      <td>0</td>\n",
              "    </tr>\n",
              "  </tbody>\n",
              "</table>\n",
              "<p>67301 rows × 3 columns</p>\n",
              "</div>"
            ],
            "text/plain": [
              "       principal component 1  principal component 2  targets\n",
              "0                   2.311855               0.067324        1\n",
              "1                  -0.268450               1.316928        2\n",
              "2                   2.311855               0.067324        1\n",
              "3                   1.911771              -0.012739        3\n",
              "4                  -0.757408              -0.635366        0\n",
              "...                      ...                    ...      ...\n",
              "67296              -0.907791               0.422867        3\n",
              "67297               2.311855               0.067324        1\n",
              "67298              -0.703094              -0.513057        0\n",
              "67299              -1.132746              -0.471881        0\n",
              "67300              -0.312709              -0.623985        0\n",
              "\n",
              "[67301 rows x 3 columns]"
            ]
          },
          "metadata": {
            "tags": []
          },
          "execution_count": 22
        }
      ]
    },
    {
      "cell_type": "code",
      "metadata": {
        "id": "1cgmg8vhUElz",
        "colab_type": "code",
        "outputId": "310db6c8-0c38-413e-e785-dcc07011a168",
        "colab": {
          "base_uri": "https://localhost:8080/",
          "height": 522
        }
      },
      "source": [
        "rng = np.random.RandomState(0)\n",
        "fig = plt.figure(figsize = (8,8))\n",
        "ax = fig.add_subplot(1,1,1) \n",
        "ax.set_xlabel('Principal Component 1', fontsize = 15)\n",
        "ax.set_ylabel('Principal Component 2', fontsize = 15)\n",
        "ax.set_title('2 component PCA', fontsize = 20)\n",
        "targets = [0, 1, 2,3]\n",
        "colors = ['r', 'g', 'b','y']\n",
        "for target, color in zip(targets,colors):\n",
        "    indicesToKeep = finalDf_GMM['targets'] == target\n",
        "    ax.scatter(finalDf_GMM.loc[indicesToKeep, 'principal component 1']\n",
        "               , finalDf_GMM.loc[indicesToKeep, 'principal component 2']\n",
        "               , c = color\n",
        "               , s = 50)\n",
        "ax.legend(targets)\n",
        "ax.grid()"
      ],
      "execution_count": 0,
      "outputs": [
        {
          "output_type": "display_data",
          "data": {
            "image/png": "[encoded data removed]",
            "text/plain": [
              "<Figure size 576x576 with 1 Axes>"
            ]
          },
          "metadata": {
            "tags": []
          }
        }
      ]
    },
    {
      "cell_type": "code",
      "metadata": {
        "id": "M5vWO0K6XJUH",
        "colab_type": "code",
        "colab": {}
      },
      "source": [
        "df_contrib_2 = contribution_1.drop(columns=['reference','createdAt','publishedAt','updatedAt','trashed','trashedStatus'])"
      ],
      "execution_count": 0,
      "outputs": []
    },
    {
      "cell_type": "code",
      "metadata": {
        "id": "ZWns_7x0Xrqw",
        "colab_type": "code",
        "colab": {}
      },
      "source": [
        "cols = [14,12,17,18,22,23,26,28]\n",
        "df_contrib_2 = df_contrib_2.drop(contribution_1.columns[cols],axis=1)"
      ],
      "execution_count": 0,
      "outputs": []
    },
    {
      "cell_type": "code",
      "metadata": {
        "id": "B_shC2hSUEcc",
        "colab_type": "code",
        "colab": {}
      },
      "source": [
        "dataset0=[]\n",
        "dataset1=[]\n",
        "dataset2=[]\n",
        "dataset3=[]\n",
        "for i in range(len(df_questions_fermes)):\n",
        "  if GMM_labels[i]==0:\n",
        "    dataset0.append(df_contrib_2.iloc[i,:])\n",
        "  if GMM_labels[i]==1:\n",
        "    dataset1.append(df_contrib_2.iloc[i,:])\n",
        "  if GMM_labels[i]==2:\n",
        "    dataset2.append(df_contrib_2.iloc[i,:])\n",
        "  if GMM_labels[i]==3:\n",
        "    dataset3.append(df_contrib_2.iloc[i,:])"
      ],
      "execution_count": 0,
      "outputs": []
    },
    {
      "cell_type": "code",
      "metadata": {
        "id": "uOA0pAFEWdK_",
        "colab_type": "code",
        "colab": {}
      },
      "source": [
        "dataset0=pd.DataFrame(dataset0)\n",
        "dataset1=pd.DataFrame(dataset1)\n",
        "dataset2=pd.DataFrame(dataset2)\n",
        "dataset3=pd.DataFrame(dataset3)"
      ],
      "execution_count": 0,
      "outputs": []
    },
    {
      "cell_type": "code",
      "metadata": {
        "id": "ey4a6Ddb-M_b",
        "colab_type": "code",
        "colab": {}
      },
      "source": [
        "listedataframe=[]\n",
        "listedataframe.append(dataset0)\n",
        "listedataframe.append(dataset1)\n",
        "listedataframe.append(dataset2)\n",
        "listedataframe.append(dataset3)"
      ],
      "execution_count": 0,
      "outputs": []
    },
    {
      "cell_type": "code",
      "metadata": {
        "id": "y4i2-FujWkrx",
        "colab_type": "code",
        "outputId": "cfc265e5-dce1-43e6-c551-fb748356de5d",
        "colab": {
          "base_uri": "https://localhost:8080/",
          "height": 82
        }
      },
      "source": [
        "print(len(dataset0))\n",
        "print(len(dataset1))\n",
        "print(len(dataset2))\n",
        "print(len(dataset3))"
      ],
      "execution_count": 0,
      "outputs": [
        {
          "output_type": "stream",
          "text": [
            "31761\n",
            "14577\n",
            "13098\n",
            "7865\n"
          ],
          "name": "stdout"
        }
      ]
    },
    {
      "cell_type": "markdown",
      "metadata": {
        "id": "tAiMASjncYBR",
        "colab_type": "text"
      },
      "source": [
        "###Zip Code"
      ]
    },
    {
      "cell_type": "code",
      "metadata": {
        "id": "nOWzYAl0b8Z8",
        "colab_type": "code",
        "colab": {}
      },
      "source": [
        "ZipCode0 = pd.DataFrame(dataset0.iloc[:,4]).apply(pd.Series.value_counts)"
      ],
      "execution_count": 0,
      "outputs": []
    },
    {
      "cell_type": "code",
      "metadata": {
        "id": "TBNmbAz0bvib",
        "colab_type": "code",
        "colab": {}
      },
      "source": [
        "ZipCode1 = pd.DataFrame(dataset1.iloc[:,4]).apply(pd.Series.value_counts)"
      ],
      "execution_count": 0,
      "outputs": []
    },
    {
      "cell_type": "code",
      "metadata": {
        "id": "z-L04P5ihd-_",
        "colab_type": "code",
        "colab": {}
      },
      "source": [
        "ZipCode2 = pd.DataFrame(dataset2.iloc[:,4]).apply(pd.Series.value_counts)"
      ],
      "execution_count": 0,
      "outputs": []
    },
    {
      "cell_type": "code",
      "metadata": {
        "id": "HCnSfAn9hdyM",
        "colab_type": "code",
        "colab": {}
      },
      "source": [
        "ZipCode3 = pd.DataFrame(dataset3.iloc[:,4]).apply(pd.Series.value_counts)"
      ],
      "execution_count": 0,
      "outputs": []
    },
    {
      "cell_type": "code",
      "metadata": {
        "id": "QF3Evf8wHfqa",
        "colab_type": "code",
        "outputId": "15e6b9bc-b1ef-4530-f262-42682d5b97eb",
        "colab": {
          "base_uri": "https://localhost:8080/",
          "height": 82
        }
      },
      "source": [
        "from time import time\n",
        "\n",
        "from sklearn.feature_extraction.text import TfidfVectorizer, CountVectorizer\n",
        "from sklearn.decomposition import NMF, LatentDirichletAllocation\n",
        "\n",
        "n_samples = 2000\n",
        "n_features = 10000\n",
        "n_components = 1\n",
        "n_top_words = 20\n",
        "\n",
        "import nltk\n",
        "nltk.download('stopwords')\n",
        "nltk.download('punkt')\n",
        "\n",
        "from nltk.tokenize import sent_tokenize, word_tokenize\n",
        "from nltk.corpus import stopwords\n",
        "\n",
        "stopWords = set(stopwords.words('french'))\n",
        "\n",
        "from gensim.summarization.summarizer import summarize\n",
        "\n",
        "from nltk.stem.snowball import FrenchStemmer\n",
        "stemmer = FrenchStemmer()\n",
        "from nltk.collocations import BigramAssocMeasures, BigramCollocationFinder\n",
        "from math import log"
      ],
      "execution_count": 0,
      "outputs": [
        {
          "output_type": "stream",
          "text": [
            "[nltk_data] Downloading package stopwords to /root/nltk_data...\n",
            "[nltk_data]   Unzipping corpora/stopwords.zip.\n",
            "[nltk_data] Downloading package punkt to /root/nltk_data...\n",
            "[nltk_data]   Unzipping tokenizers/punkt.zip.\n"
          ],
          "name": "stdout"
        }
      ]
    },
    {
      "cell_type": "code",
      "metadata": {
        "id": "kcP-Ye2MFBZi",
        "colab_type": "code",
        "colab": {}
      },
      "source": [
        "finaldf = df_contrib_2.iloc[0:4,].copy()"
      ],
      "execution_count": 0,
      "outputs": []
    },
    {
      "cell_type": "code",
      "metadata": {
        "id": "DV2ssDUjzYmC",
        "colab_type": "code",
        "colab": {}
      },
      "source": [
        "cols = [0,2,3,4]\n",
        "finaldf = finaldf.drop(finaldf.columns[cols],axis=1)"
      ],
      "execution_count": 0,
      "outputs": []
    },
    {
      "cell_type": "code",
      "metadata": {
        "id": "Rrq2de3FDTD4",
        "colab_type": "code",
        "colab": {}
      },
      "source": [
        "def bi_create(liste_text):\n",
        "  result = []\n",
        "  for i in range(len(liste_text)-1):\n",
        "    result.append(liste_text[i]+ \" \" + liste_text[i+1] )\n",
        "  return result"
      ],
      "execution_count": 0,
      "outputs": []
    },
    {
      "cell_type": "code",
      "metadata": {
        "id": "U9e1JwK2DT4l",
        "colab_type": "code",
        "colab": {}
      },
      "source": [
        "def bi_create_From_scored(scored): \n",
        "  liste = []\n",
        "  for i in range(30):\n",
        "    liste.append(scored[i][0][0] + \" \" + scored[i][0][1])\n",
        "  return liste"
      ],
      "execution_count": 0,
      "outputs": []
    },
    {
      "cell_type": "code",
      "metadata": {
        "id": "niMteRNe7XoX",
        "colab_type": "code",
        "colab": {}
      },
      "source": [
        "def compteur_Word(dataset, index_column):\n",
        "  data_samplesQ1 = pd.DataFrame(dataset.iloc[:,index_column])\n",
        "  l1 = data_samplesQ1.isnull()\n",
        "  mot = []\n",
        "  for i in range(len(data_samplesQ1)):\n",
        "    if (l1.iloc[i ,0] == False):\n",
        "      mot.append(data_samplesQ1.iloc[i,0])\n",
        "  for i in mot : \n",
        "    i = i.lower()\n",
        "    for j in i.split() :\n",
        "      if ((j not in stopWords) == True):\n",
        "        j = stemmer.stem(j)\n",
        "\n",
        "  #Extracting tf-idf features for NMF\n",
        "  tfidf_vectorizer = TfidfVectorizer(max_df=0.8, min_df=0.1,max_features=n_features,stop_words=stopWords)\n",
        "  tfidf = tfidf_vectorizer.fit_transform(mot)\n",
        "  # Fit the NMF model\n",
        "  tfidf_feature_names = tfidf_vectorizer.get_feature_names()\n",
        "\n",
        "  compteur = pd.DataFrame({'nb': range(len(mot))})\n",
        "  index = 0\n",
        "  for i in mot : \n",
        "    nb = 0\n",
        "    for j in i.split() :\n",
        "      for k in tfidf_feature_names :\n",
        "        if (j == k):\n",
        "          nb = nb + 1\n",
        "    compteur.iloc[index,0] = nb /log(len(i.split())+1)\n",
        "    index = index + 1\n",
        "  return compteur\n"
      ],
      "execution_count": 0,
      "outputs": []
    },
    {
      "cell_type": "code",
      "metadata": {
        "id": "JEJn2pT77kxE",
        "colab_type": "code",
        "colab": {}
      },
      "source": [
        "def compteur_bigram(dataset, index_column):\n",
        "  data_samplesQ1 = pd.DataFrame(dataset.iloc[:,index_column])\n",
        "  l1 = data_samplesQ1.isnull()\n",
        "  mot = []\n",
        "  text = []\n",
        "  for i in range(len(data_samplesQ1)):\n",
        "    if (l1.iloc[i ,0] == False):\n",
        "      mot.append(data_samplesQ1.iloc[i,0])\n",
        "  for i in mot : \n",
        "    i = i.lower()\n",
        "    for j in i.split() :\n",
        "      if ((j not in stopWords) == True):\n",
        "        j = stemmer.stem(j)\n",
        "        text.append(j)\n",
        "  finder = BigramCollocationFinder.from_words(text)\n",
        "  bigram_measures = BigramAssocMeasures()\n",
        "  scored = finder.score_ngrams(bigram_measures.raw_freq)\n",
        "  liste_bi = bi_create_From_scored(scored)\n",
        "\n",
        "  compteur = pd.DataFrame({'nb': range(len(mot))})\n",
        "  index = 0\n",
        "  for i in mot : \n",
        "    nb = 0\n",
        "    for j in bi_create(i.split()) :\n",
        "      for k in liste_bi :\n",
        "        if (j == k):\n",
        "          nb = nb + 1\n",
        "    compteur.iloc[index,0] = nb /log(len(i.split())+1)\n",
        "    index = index + 1\n",
        "  return compteur"
      ],
      "execution_count": 0,
      "outputs": []
    },
    {
      "cell_type": "code",
      "metadata": {
        "id": "1IugQ3tg9ztZ",
        "colab_type": "code",
        "colab": {}
      },
      "source": [
        "def Resumer_column(dataset, index_column,word_count):\n",
        "  \n",
        "  data_samplesQ1 = pd.DataFrame(dataset.iloc[:,index_column])\n",
        "  l1 = data_samplesQ1.isnull()\n",
        "  motFinal = []\n",
        "  for i in range(len(data_samplesQ1)):\n",
        "    if (l1.iloc[i ,0] == False):\n",
        "      motFinal.append(data_samplesQ1.iloc[i,0])\n",
        "  compteur = compteur_Word(dataset,index_column)+compteur_bigram(dataset,index_column)\n",
        "\n",
        "  hh = compteur.sort_values(by=['nb'], ascending=False).head(10).index\n",
        "\n",
        "  phrase = \"\"\n",
        "  for i in hh :\n",
        "    phrase = phrase +\". \"+ motFinal[i]\n",
        "\n",
        "  return summarize(phrase, word_count = word_count)\n"
      ],
      "execution_count": 0,
      "outputs": []
    },
    {
      "cell_type": "code",
      "metadata": {
        "id": "wBu14VZRC443",
        "colab_type": "code",
        "colab": {}
      },
      "source": [
        "for i in range(5,30):\n",
        "  finaldf.iloc[0,i-4]=Resumer_column(dataset0, i,200)\n",
        "  finaldf.iloc[1,i-4]=Resumer_column(dataset1, i,200)\n",
        "  finaldf.iloc[2,i-4]=Resumer_column(dataset2, i,200)\n",
        "  finaldf.iloc[3,i-4]=Resumer_column(dataset3, i,200)\n",
        "  print(i)"
      ],
      "execution_count": 0,
      "outputs": []
    },
    {
      "cell_type": "code",
      "metadata": {
        "id": "g444y--5uIa5",
        "colab_type": "code",
        "outputId": "c4ee09d2-2a10-4956-8fc8-15d565a7a829",
        "colab": {
          "base_uri": "https://localhost:8080/",
          "height": 1000
        }
      },
      "source": [
        "finaldf"
      ],
      "execution_count": 0,
      "outputs": [
        {
          "output_type": "execute_result",
          "data": {
            "text/html": [
              "<div>\n",
              "<style scoped>\n",
              "    .dataframe tbody tr th:only-of-type {\n",
              "        vertical-align: middle;\n",
              "    }\n",
              "\n",
              "    .dataframe tbody tr th {\n",
              "        vertical-align: top;\n",
              "    }\n",
              "\n",
              "    .dataframe thead th {\n",
              "        text-align: right;\n",
              "    }\n",
              "</style>\n",
              "<table border=\"1\" class=\"dataframe\">\n",
              "  <thead>\n",
              "    <tr style=\"text-align: right;\">\n",
              "      <th></th>\n",
              "      <th>title</th>\n",
              "      <th>QUXVlc3Rpb246MTY5 - Que pensez-vous de l'organisation de l'Etat et des administrations en France ? De quelle manière cette organisation devrait-elle évoluer ?</th>\n",
              "      <th>QUXVlc3Rpb246MTcx - Si oui, lesquelles ?</th>\n",
              "      <th>QUXVlc3Rpb246MTcy - Si non, quels types de services publics vous manquent dans votre territoire et qu'il est nécessaire de renforcer ?</th>\n",
              "      <th>QUXVlc3Rpb246MTc0 - Quels nouveaux services ou quelles démarches souhaitez-vous voir développées sur Internet en priorité ?</th>\n",
              "      <th>QUXVlc3Rpb246MTc3 - Quelles améliorations préconiseriez-vous ?</th>\n",
              "      <th>QUXVlc3Rpb246MTc4 - Quand vous pensez à l'évolution des services publics au cours des dernières années, quels sont ceux qui ont évolué de manière positive ?</th>\n",
              "      <th>QUXVlc3Rpb246MTc5 - Quels sont les services publics qui doivent le plus évoluer selon vous ?</th>\n",
              "      <th>QUXVlc3Rpb246MTgy - Si oui, à quelle occasion en avez-vous fait usage ?</th>\n",
              "      <th>QUXVlc3Rpb246MTgz - Pouvez-vous identifier des règles que l'administration vous a déjà demandé d'appliquer et que vous avez jugées inutiles ou trop complexes ?</th>\n",
              "      <th>QUXVlc3Rpb246MTg1 - Si oui, comment ?</th>\n",
              "      <th>QUXVlc3Rpb246MTg3 - Si oui, comment ?</th>\n",
              "      <th>QUXVlc3Rpb246MTg4 - Comment l'Etat et les collectivités territoriales peuvent-ils s'améliorer pour mieux répondre aux défis de nos territoires les plus en difficulté ?</th>\n",
              "      <th>QUXVlc3Rpb246MTkx - Si vous avez été amené à chercher une formation, pouvez-vous indiquer les éléments de satisfaction et/ou les difficultés rencontrés en précisant, pour chaque point, l'administration concernée :</th>\n",
              "      <th>QUXVlc3Rpb246MTky - Si vous avez été amené à scolariser votre enfant, pouvez-vous indiquer les éléments de satisfaction et/ou les difficultés rencontrés en précisant, pour chaque point, l'administration concernée :</th>\n",
              "      <th>QUXVlc3Rpb246MTkz - Si vous avez été amené à chercher un emploi, pouvez-vous indiquer les éléments de satisfaction et/ou les difficultés rencontrés en précisant, pour chaque point, l'administration concernée :</th>\n",
              "      <th>QUXVlc3Rpb246MTk0 - Si vous avez été amené à préparer votre retraite, pouvez-vous indiquer les éléments de satisfaction et/ou les difficultés rencontrés en précisant, pour chaque point, l'administration concernée :</th>\n",
              "      <th>QUXVlc3Rpb246MTk1 - Si vous avez été amené à demander un remboursement de soins de santé, pouvez-vous indiquer les éléments de satisfaction et/ou les difficultés rencontrés en précisant, pour chaque point, l'administration concernée :</th>\n",
              "      <th>QUXVlc3Rpb246MTk2 - Si vous avez été amené à faire une demande d'aide pour une situation de handicap, pouvez-vous indiquer les éléments de satisfaction et/ou les difficultés rencontrés en précisant, pour chaque point, l'administration concernée :</th>\n",
              "      <th>QUXVlc3Rpb246MTk4 - Si vous avez été amené à créer une entreprise, pouvez-vous indiquer les éléments de satisfaction et/ou les difficultés rencontrés en précisant, pour chaque point, l'administration concernée :</th>\n",
              "      <th>QUXVlc3Rpb246MTk5 - Si vous avez été amené à recruter du personnel, pouvez-vous indiquer les éléments de satisfaction et/ou les difficultés rencontrés en précisant, pour chaque point, l'administration concernée :</th>\n",
              "      <th>QUXVlc3Rpb246MjAw - Si vous avez été amené à former du personnel, pouvez-vous indiquer les éléments de satisfaction et/ou les difficultés rencontrés en précisant, pour chaque point, l'administration concernée :</th>\n",
              "      <th>QUXVlc3Rpb246MjAx - Si vous avez été amené à rémunérer du personnel, pouvez-vous indiquer les éléments de satisfaction et/ou les difficultés rencontrés en précisant, pour chaque point, l'administration concernée :</th>\n",
              "      <th>QUXVlc3Rpb246MjAy - Si vous avez été amené à mettre fin à votre activité, pouvez-vous indiquer les éléments de satisfaction et/ou les difficultés rencontrés en précisant, pour chaque point, l'administration concernée :</th>\n",
              "      <th>QUXVlc3Rpb246MjAz - Si vous avez été amené à recruter une personne portant un handicap, pouvez-vous indiquer les éléments de satisfaction et/ou les difficultés rencontrés en précisant, pour chaque point, l'administration concernée :</th>\n",
              "      <th>QUXVlc3Rpb246MTg5 - Y a-t-il d'autres points sur l'organisation de l'Etat et des services publics sur lesquels vous souhaiteriez vous exprimer ?</th>\n",
              "    </tr>\n",
              "  </thead>\n",
              "  <tbody>\n",
              "    <tr>\n",
              "      <th>0</th>\n",
              "      <td>Les avantages</td>\n",
              "      <td>…)  avec responsabilité pour leur entretien (chaque réseau ferré deviendrait ainsi régional pour son entretien et son développement), la région ayant le choix de ses prestataires (ouverture à la concurrence SNCF omnipotente et en faillite, gérée par l’état, très mauvais gestionnaire comme on l’a vu dans le premier thème de ce grand débat.,  \\t - Tourisme : la Région doit être le chef de file pour le tourisme ; développer les réserves naturelles et parcs régionaux, voire nationaux (en relation avec l’état), développer un tourisme écologique…     - Santé : chaque région est différente : les besoins en hôpitaux, cliniques, matériels et en personnel en santé doivent s’adapter régionalement ; le ministère de la santé pourrait se régionaliser dans certains domaines ; l’état gardant la main sur les orientations , et  surtout en matière de prévention:  santé publique, santé scolaire santé au  travail  qui sont devenues quasi inexistantes en 40 ans ( pourrait permettre une forte diminutio...</td>\n",
              "      <td>2 : L’organisation de l’état   \\tSi on analyse le mouvement gilets jaunes on peut voir qu’un virage dans notre organisation de l’état et de notre république est nécessaire: une proportionnelle non intégrale doit être étudiée pour que chacun puisse y trouver son compte.\\n3 : La transition énergétique   \\tAvant d’obliger les français à renouveler leurs chaudières, l’état doit montrer très vite, et avec un calendrier court et exemplaire, sa volonté et son intérêt pour l’écologie : les transports routiers ne doivent pas être le lobi de la gouvernance.\\n(ne plus multiplier des études qui sont aussi faites en double par les régions) •\\tSupprimer / Interdire les interventions des préfets auprès des collectivités locales sauf pour des sujets relevant des responsabilités de l’Etat •\\tTous les travaux dans les régions (sauf ceux relevant de l’état) doivent être financés par les régions seules et plus du tout par l’état même partiellement.\\nEn revanche, les niveaux de collectivités locales do...</td>\n",
              "      <td>Sous couvert de confidentialité, ce que je comprends par ailleurs, les assistantes sociales ne peuvent plus faire certaines démarches à la place de leurs clients, notamment les plus âgés ou en situation de handicap qui n'ont pas internet, ne savent pas s'en servir, sont isolés d'un point de vue familial et pire encore lorsqu'ils habitent en zone rurale.\\nVous allez me répondre il y a CAF pro, oui mais quand on travaille à l'éducation nationale on n'a pas CAF pro, pour aller sur la permanence de la caf il faut prendre rv surtout par internet avec son code confidentiel, il n'y  a plus de permanence où les usagers sont reçus sans rv....inutile de vous dire que pour des personnes isolées, voire pour certaines très proches de l'illéttrisme, dans l'incapacité de \"ranger\" les documents importants c'est une démarche compliquée qu'ils ne font pas (ils vont vous garder et vous apporter toutes les pubs de leurs boites aux lettres au milieu d'autres courriers et ont perdu le plus souvent les p...</td>\n",
              "      <td>Cela dit je trouve qu'on peut réaliser de plus en plus de démarche en ligne, mais à chaque fois, on a l'impression que tout est fait pour nous complexifier la vie.\\nPar exemple, le site pourrait enregistrer par défaut les informations de nos déclarations précédentes (parce qu'en général, on ne change pas de nombre d'heure de garde d'enfant chaque mois...), et on pourrait être mieux guidés sur les vacances (pour nous donner des altertes si la nounou ne prend pas assez de vacances ou trop), les primes...\\nimpossible d'expliquer à ma nounou que lorsqu'elle pose un vendredi, il faudrait que je lui compte 2 jours de vacances, mais un seul pour tous les autres jours...\\nEt du coup peut être que je dois en fait me réjouir que vos systèmes ne se parlent pas...Nous sommes en 2019, on parle d'IA et la technologie est de plus en plus performante.\\nNous payons pour ces services après tout.Quasiment 100 % des démarches devraient pouvoir être faits ainsi.\\nArrêtons les isoloirs et les papiers.Le...</td>\n",
              "      <td>En conséquence il faut rapidement passer d'une présence qui reste encore expérimentale ou symbolique à un déploiement systématique à la fois en zones rurales et dans les villes ou l'accès aux services compétents est souvent problématique pour des raisons de disponibilité ou d'attitude condescendante et parfois irrespectueuse des agents  concernés.Etre informer de l' existant; - Le regroupement dans un même lieu de plusieurs services publics (Maisons de services au public) ;- Les services publics itinérants (bus de services publics) ;- Le service public sur prise de rendez-vous ; - Les agents publics polyvalents susceptibles de vous accompagner dans l'accomplissement de plusieurs démarches quelle que soit l'administration concernée.\\nces services nous sont actuellement inconnus en zone rurale et pourtant essentielsLe regroupement dans un même lieu de plusieurs services publics (Maisons de services au public) ; - Les services publics itinérants (bus de services publics) ; - Le servic...</td>\n",
              "      <td>L'évolution des services publics via internet est une bonne chose.\\nLa phase de transition lors de la mise en place de ces nouveaux services pose parfois problèmes.\\nExemple ANTS avec des délais allongés pour obtenir une carte grise et l'absence de contact pour suivre le dossier.\\nLe site internet du service des impôts fonctionne bien.\\nLes services de retraite de la CNAV aussiCertains services par internet ( impôts notamment)aucunaucunimpôtsaucunaucunaucunaucunaucun</td>\n",
              "      <td>» Il faut faire « des consultations plus rapides ou bien plus souvent ou faire venir les patients en hôpital de jour en rajoutant des examens » ; Les personnels soignants sont  traités comme des producteurs de soins interchangeables et dépossédés du sens de leur travail, ce qui crée de la révolte mais surtout beaucoup de découragement et de désinvestissement dans les équipes hospitalières.\\n-- Un autre phénomène qui  s’aggrave  est le manque de structures d’aval, qu’il s’agisse de lits de médecine, notamment pour les personnes âgées, ou de lits de spécialité (impossibilité d’admettre dans certains établissements ou services des patients ne relevant pas de la spécialité), de places en secteur psychiatrique, en soins de suite et dans le secteur -- le médecin généraliste La loi place le médecin généraliste de premier recours au centre de la coordination des soins, en lui confiant la responsabilité  d’orienter ses patients, selon leurs besoins  et de « s’assurer de la coordination des ...</td>\n",
              "      <td>. erreur déclaration impôt.\\nerreur sur déclaration impôt.\\nerreur sur déclaration impôt.\\nerreur sur déclaration impôt.\\ndéclaration impôts\\ndéclaration impôts\\ndéclaration impôts\\ndéclaration impôts\\ndéclaration impôts\\ndéclaration impôts</td>\n",
              "      <td>beaucoup trop.\\nbeaucoup trop.\\nLa feuille d'impôt sur le revenu est beaucoup trop complexe : trop de rubriques, trop de niches.\\nPour la construction de batiments publiques, les normes trop nombreuses et trop strictes ont tendance à rendre les projets très coûteux.\\nAu final , trop de projets sont abandonnés car top coutêtus pour répondre à des normes pas forcément pertinentes..\\nObtention d'un passeport trop long.\\nObtention d'un Kbis trop long.\\nObtention d'une carte grise trop long (complexe).\\nObtention d'une formation professionnelle pour mon entreprise trop long, trop d'incertitudes..\\nOUI : la règle d'application d'une erreur d'évaluation d'un bien immobilier en succession est totalement anormale :  si l'évaluation est trop forte : on garde l'imposition en tenant compte de l'évaluation trop forte ; si l'évaluation est trop faible : il y a une imposition complémentaire en plus-value, donc plus chère.\\nBref que l'on sur- ou sous- évalue, c'est le calcul le moins intéressant p...</td>\n",
              "      <td>On a l'impression que les fonctionnaires en charge de ces dossiers ne servent qu'à valider les cases bien remplies et à transmettre à leur autorité des fromages de statistiques pour justifier la charge de travail et attendre d'en haut qu'on valide en fonction de textes administratifs toujours plus complexes.\\nJe propose un statut pour des fonctionnaires de terrain ayant une responsabilité sous serment public concernant une fonction propre qui leur est déléguée (comme un policier ou autrefois le garde champêtre...)  et qui rend ces fonctionnaires responsables d'une fonction de décision limitée dans le champ de leur compétence (ex.: règles d'urbanisme, de droits à la personne, d'évaluation de niveau de handicap , de dépendance pour droit à aide publique, etc) qui ont à charge un secteur local, qui se déplacent chez les personnes, qui remplissent les dossiers en leurs présence, les font suivre à l'administration et valident leur application sous réserve du respects de règles en vigueu...</td>\n",
              "      <td>La Fonction Publique a pour vocation de servir la France et les français et si on leur impose des dérogations au Droit du travail, en contre partie, on accorde aux fonctionnaires quelques privilèges que n'ont pas les autres citoyens.\\n4.\\tLe nouveau statut des fonctionnaires leur garantissant une carrière qu’ils pourront mener à terme fera l’objet d’une loi organique qui précisera, en outre, que le temps de travail légal pour un fonctionnaire est de 39 h/semaine avec en repos, tous les week-ends et les jours fériés et chômés ; l’activité dans ces jours-là faisant l’objet de journées de récupération.\\n8.\\tL’Etat est souverain (mais sous contrôle) dans sa décision à désigner que tel ou tel poste ou telle ou telle activité doit relever ou non du service public; c’est-à-dire de répondre ou non aux principes de mutabilité, de continuité, d’égalité, de valeur ajoutée nulle, de neutralité et d’obligation de fonctionnement correct.\\nEst-on vraiment sur que les effectifs et donc le coût pou...</td>\n",
              "      <td>Le visage de ce service public doit être beaucoup plus glamour permettant aux citoyens les moins favorisés de s’y reconnaître.\\nLe visage de ce service public doit être beaucoup plus glamour permettant aux citoyens les moins favorisés de s’y reconnaître.\\nUne collectivité de spécialistes doit pouvoir être jointe à distance de même que les responsables de services très pointus avec un objectif de diminuer le déplacement des patients.\\nUne collectivité de spécialistes doit pouvoir être jointe à distance de même que les responsables de services très pointus avec un objectif de diminuer le déplacement des patients.\\nL'état et les collectivités locales doivent être des facilitateurs de service ce qui ne se résume pas à la défense d'une perception ou pratiquement plus personne ne va.\\nLe maillage des services sur le territoire doit être plus rationnel, non pas en fonction du nombre d'habitants mais en fonction de leur difficulté et de leur besoin (moins de service pôle emploi là où le ta...</td>\n",
              "      <td>Sachez que la formation est pratiquement inaccessible cest plus dur d'avoir une formation  que de trouver un emploi  Voilà des années que je souhaite avoir une formation  étant aux rsa avec aucunes formation car j'ai pas fait de longue études je rêve de retourner soit en formation qualifiante soit a l'école pour avoir accès a un emploi mais c'est impossible face aux afpa aux pôle emploi et autres qui vous propose rien mais rien qui correspond à  une vrai formation........\\nTrop de sites pour une info partielle (aquitaine cap métier, fiche métier et liens, afpa, pole emploi et la bonne formation, avec les dates au compte goutte), des possibilités limitées à un territoire prédéterminé (par qui) (landes, mais je peux me déplacer, surtout si les frais sont pris en charge), des attributions aux organismes en dépit des résultats de terrain.\\nUn salarié qui veut changer de métier (je recommande le CIF-CDD - mais ma formation a été facturée 9500€ pour la moitié (5000€) pour certains autres...</td>\n",
              "      <td>Les conditions de travail dans l'Education Nationale se dégradent de jour en jour :  -une charge de travail de plus en plus importante car de plus en plus d'administratif (le temps perdu en administratif nuit à notre disponibilité et à notre travail pour nos élèves),  -des classes de plus en plus grandes (aujourd'hui , j'ai 25 CP alors que les préconisations sont 21 maxi en CP) ,  - des effectifs conséquents qui nuisent à la différenciation (comment faire du cas particulier quand on a 25 élèves encore peu autonomes en CP?),  -un manque de formation continue  des enseignants (PE j'ai 18h de formation continue par an déclinée ainsi : 6h devant un Conseiller Pédagogique qui souvent fait reposer le contenu uniquement sur le partage des pratiques , 6h en autonomie devant un ordi et 6h avec d'autres collègues pour construire une progression par exemple.....\\ndifficile de rejoindre la plus grande ville qui est à 35 km)  -l' intégration des enfants handicapés : cette loi pourrait être très...</td>\n",
              "      <td>J'ai la chance de ne pas faire partie des plus démunis ni des moins autonomes en même temps je pense aux personnes les plus fragiles et aux conseillers pour qui le quotidien déjà difficile va être encore plus stressant avec cette loi..\\nPlus encore, il y a beaucoup de corps de métiers qui nécessitent que des permis et certificats soient régulièrement remis à jour (Pour la sécurité privée, tous les 5 ans par secteur spécifique d'activité, 2 ans pour le secourisme, 2 ans l'incendie etcetc...Ca coûte une fortune si on doit se repayer tout cela à chaque fois, en temps comme en euros).\\nCette politique du papier à un coup énorme pour de nombreux travailleurs qualifiés et aussi l'entreprise qui aura fait une erreur de recrutement car privilégiera des critères d'embauche superficiels et acceptés plus ou moins consciemment par la société en crise dans laquelle nous vivons.\\nC’est un véritable frein au retour à l’emploi et ça n’encourage pas les personnes à aller travailler, même si elles o...</td>\n",
              "      <td>Je m'empresse d'aller voir le message : \"votre dossier a été réceptionné et sera traité dans 4 mois et 6jours\" et là on se dit mais non, c'est une erreur, ou une blague.\\nLes mois s'écoulent, l'angoisse de ma maman augmente, elle se demande s'il faut donner une date à l'employeur et laquelle car pour carrière longue il faut déjà que ce soit accepté, mais comme le dossier n'est pas traité, on en sait pas.\\nEncore un secteur, où on peut créer de l'emploi car des dossiers il doit y en avoir un paquet à traiter surtout que pour ma maman le combat n'est pas terminé.\\nElle est officiellement en retraite depuis presque 2 mois mais les dossiers de retraites complémentaires ne sont pas traités car l'un attendait le résultat de l'autre et l'autre celui de l'un.\\navec un organisme chargé d'étudier vos droits à la retraite (1 an avant s'il le faut) pour que le paiement arrive bien dès le début de la retraite et pas 6 mois après, car les gens ont des factures qui tombent pendant que tout le mon...</td>\n",
              "      <td>Hors le médecin de la sécurité sociale n'a pas voulu considérer cet incident comme un accident du travail en prenant en compte les contraintes de rendement et d’efficacité, le stress permanent d'activité de plus en plus rentable à exécuter, des horaires excessives au détriment de toute autre vie, l'obligation de rester en contact permanent avec son téléphone et autres moyens de communications qui faisait qu'une fois rentré à la maison j'étais sur mes mails, ou répondre aux appels téléphoniques jusqu’à plus de minuit pour reprendre le matin à 6h.\\nRéintégrons dans la Sécurité Sociale les coûts de santé laissés à la charge des Complémentaires maladie …et arrêtons de faire dire n’importe quoi aux « Prélèvements obligatoires » La totalité des coûts de santé de nos concitoyens doivent être pris en charge par la Sécurité Sociale et on ne doit laisser à  la charge des Complémentaires (Mutuelles ou Assurances) uniquement la part \"confort\" c'est à dire non indispensable, type chambre partic...</td>\n",
              "      <td></td>\n",
              "      <td>. beaucoup trop long et trop adminnistartif.\\ntrop compliqué !\\ntrop long !.\\ntrop complexe et trop long.\\ntrop long, trop complexe, trop cher.\\nBeaucoup trop compliqué et trop long.\\nMais finalement le problème réside avant tout ailleurs : Ce qui plombe vraiment les chances de réussir, ce sont les  les banques (qui se foutent de la gueule du monde mais empochent les frais volontiers), les services qui multiplient par deux les abonnements sans multiplier les services (Electricité, téléphone, terminal de paiement, internet), les propriétaires des murs qui ne se font pas à l'idée que le marché a baissé et qui maintiennent des prix de loyers trop chers avec des baux de 3 ans qui sont trop longs, des commerçants qui veulent encore vendre leur droit au bail alors que le commerce de détail s'est cassé la gueule (en tous cas dans la France périphérique), des fournisseurs qui veulent sauver leur peau d'abord en imposant des quantités, des prix, des délais qui sont prohibitifs.\\nTout ça pou...</td>\n",
              "      <td>Effectivement j ai été amenée à recruter et je le suis toujours dans le secteur de l Aide  à Domicile  C est un parcours du Combattant que de vouloir recruter faute de candidatures exploitables  dans ce domaine d activités A chaque fois que je recrute c est grâce à des candidatures spontanées, présentation du candidat directement à mon bureau, job dating organisé par mon Employeur  ou cooptation  Pourquoi le Pole emploi n est pas en capacité d aider réellement à recruter et de proposer des candidatures qui correspondent aux profils recherchés  ?\\nAlors qu il nous est proposé des personnes qui n ont rien de commun avec les valeurs de respect , d écoute, de savoir être requises pour ce métier Ce métier n est pas un fourre-tout où l on peut caser tout le monde au motif qu il est demandeur d’emploi   Solutions Pôle emploi  Que les conseillers Pôle emploi aient moins de personnes à gérer mais qu ils connaissent bien le domaine d activité  dans lequel ils peuvent aiguiller les candidats.</td>\n",
              "      <td></td>\n",
              "      <td></td>\n",
              "      <td></td>\n",
              "      <td></td>\n",
              "      <td>Pour moi, le projet doit être celui de construire une société meilleure:  - focalisée sur la qualité de vie et non l'accumulation de biens matériels inutiles; - plus juste et égalitaire, tous ayant les mêmes chances, mais aussi dans l'ensemble des situations comparables ou en tout cas pas trop dissimilaires (au débat de déterminer quelle fourchette est acceptable).\\nMacron, de ses engagements et des mesures prises jusqu'ici – qui me semblent pour l'essentiel et dans l'ensemble refléter une vision particulièrement rétrograde de la croissance et de la production matérielle comme unique salut; de marchés parfaitement efficients; d'entreprises spontanément altruistes; un défenseur de la pure politique libérale de l'offre à la Thatcher qui n'a pas quarante ans d'âge mais bien quarante ans de retard, alors que même les temples du libéralisme que sont l'OCDE et le FMI reconnaissent désormais depuis des années que ces politiques sont contreproductives même de leur strict point de vue de la...</td>\n",
              "    </tr>\n",
              "    <tr>\n",
              "      <th>1</th>\n",
              "      <td>suppression des départements</td>\n",
              "      <td>1. Au moment où une partie des français sont dans la rue pour protester essentiellement à propos de leurs capacités financières insuffisantes, la réflexion qui nous est proposée, sinon demandée par le Président Emmanuel MACRON, débouche instantanément sur 2 points : ---L’état peut-il demander aux « petits riches », tout de même assez nombreux bien que minoritaires en France, de payer davantage en fiscalité ?</td>\n",
              "      <td></td>\n",
              "      <td>Pour les   villes proches de taille moyenne,  une maison de santé  regroupant  un ou deux médecins , après les heures de fermeture des cabinets médicaux ; ces médecins devraient être les médecins  exerçant dans ces  villes ,  accomplissant leur service en alternance , et comme autrefois  se déplaceraient  à domicile  en cas de besoin ; ce serait plus humain que le 15  pour des « urgences » lorsqu’ils s’agit de désagréments qui,  sans être extrêmement graves,  demandent des soins alors  le malade n’est pas en état de se déplacer et de rester  longtemps dans une salle d’attente Sauvegarder les maternités en milieu désertifié, et même si elles fonctionnent peu, on peut  y ajouter d’autres services de proximité, d’utilité publique  Les Urgences des hôpitaux qui sont surbookées, devraient vraiment concerner de vraies urgences, et retrouver le sens qui correspond à leur appellation.</td>\n",
              "      <td>Une des conséquences de la suppression de ces services « humains » est que nombre de personnes qui pouvaient se débrouiller seules, pour acheter des billets de train, faire des opérations bancaires basiques, pour faire toutes les démarches administratives qui leur incombent, etc.\\nGarantir la liberté d'information en rendant illégal l'appropriation d'un média par un seul actionnaire majoritaire.NUMERISATION  Il faut repartir d'une page blanche et ne pas se contenter de numériser l'existant qui n'a souvent plus de sens (pièces d'identité, permis de construire....)  Créer un seul site informatique de relation entre l'administration et les français service-public est pas mal fait : mais il faut qu'il couvre tout et que chaque ministère arrête de faire sa petite numérisation dans son coin, avec des styles différents, des emplacements différents, des bugs fréquents...\\nCe serait en quelque sorte ce qui se fait, si j'ai bien compris, dans les quelques maisons de services au public, mais ...</td>\n",
              "      <td>Ces services ont été créés et développés par des seniors pour les seniors    Objectif : Optimisation du transport solidaire  Ce qui existe fonctionne très bien  (Vendée, Loire Atlantique): Ce sont des modèles         Dans le secteur de Pornic   1977    269  interventions par mois   1) Il appartient à une association locale  d'organiser une réunion avec la participation active des élus D'essayer de communiquer De trouver des \"conducteurs du coeur\"   De prendre les mesures nécessaires pour s'assurer de la qualité du conducteur, de son assurance  Que faire pour ouvrir plus de possibilités ?\\nNous travaillerons pour permettre l'utilisation vis à vis de l'association des Bons de transport avec lesquels elle pourra ainsi récompenser les pilotes et peut être même les indemniser .Des doutes importants sur l’impartialité de l’organisation du Grand débat public se font jour suite à l’éviction de la Commission Nationale du Débat Public (CNDP) dans son organisation et par sa prise en main dire...</td>\n",
              "      <td>déjà répondu1/ fin de l'imposition au foyer- individuelle part de l enfant à la mère 2/abrogation de la coparentalité 2002 3/ affichage obligatoire des salaires 4/ la parité obligatoire dans les entreprise privées 5/prestation compensatoire et obligatoire non pas pendant le mariage mais dès le 1er enfant.\\n9/ Abolition de la loi éloignement géographique volontaire qui en plus d'être anti constitutionnel, contre les droits fondamentaux de liberté de circulation, de liberté et de sécurité, maintient les femmes dans une incapacité d'emploi (immobilité professionnelle) incapacité de trouver un logement décent (limité à trouver un logement près de leur ex violent- ceux utilisant egv ) sous le chantage nauséabond d'arracher les enfants aux mères.\\nLa.le titulaire ne sera pas nommé par le gouvernement ou élu, mais élu par les associations féministes, associations femmes handicapées, associations d’aides aux femmes victimes des violences conjugales.Durée de vie minimum obligatoire 50 ans, ...</td>\n",
              "      <td>Quand tous les enfants ont le même âges dans la classe, chacun est au même niveau, mais avec quelques différences qui permettent déjà d'établir une petite compétition malsaine.\\nElle raconte toutes ses galères aussi et les enfants particuliers et difficiles.Cher ami conducteur, Avec le Grand débat national, nous avons l’occasion ou jamais d’exiger le retrait du 80 km/h, une mesure imposée sans concertation par un Gouvernement qui s’est obstiné de façon insensée !\\nSur la route, les conducteurs en font les frais tous les jours : temps de trajet rallongés, dépassements dangereux, camions collés aux voitures… Sans parler des radars qui flashent à tout va, quand ils n’ont pas été pris pour cible par des Gilets jaunes excédés !\\nEnsemble, nous allons imposer la voix des conducteurs dans le Grand débat national pour exiger le retrait du 80 km/h, la fin du tout-répressif et le retour aux fondamentaux de la sécurité routière : que les pouvoirs publics entretiennent les routes… et qu’ils la...</td>\n",
              "      <td>. Voici quelques-unes de mes doléances à débattre :   🔴 Débattre, réformer et Voter les lois par tous les citoyens Français pour une réelle démocratie permanente (RIC en toute matière) via INTERNET,  à l'image de nos impôts qui sont réglés par ce même biais, en y rentrant des codes personelle tel que numéro de sécurité sociale, avis d'imposition ..etc..\\n(Listes exhaustive à établir pour ces 2 familles de produits)  🔴 Transparence salaires, avantages et dépenses quotidiennes de tous fonctionnaires du président au maire, avec une mise à jour chaque mois, consultable par internet par tous les citoyens français à tout moment.\\n9/ Abolition de la loi éloignement géographique volontaire qui en plus d'être anti constitutionnel, contre les droits fondamentaux de liberté de circulation, de liberté et de sécurité, maintient les femmes dans une incapacité d'emploi (immobilité professionnelle) incapacité de trouver un logement décent (limité à trouver un logement près de leur ex violent- ceux...</td>\n",
              "      <td>Je dois aussi vous dire que je suis une personne handicapée à 80 % et que pour moi, prendre le téléphone et faire des démarches administratives, c' est très très compliqué, et cela me demande un effort presque surhumain.\\nMais comme le service était très occupé, je n'ai pas insisté, j'ai raccroché et je me suis dit que je pourrais avoir l'information, ailleurs,  auprès d'une autre Mairie, d'autant plus que j'ai su que l'on pouvait faire son dépôt de  demande de carte d'identité auprès de n'importe quelle mairie.\\nJe suis non-imposable, et comme toute personne non-imposable, les services des Impôts ne délivrent désormais plus d'avis de non-imposition, mais à la place, un ASDIR (Avis de Situation Déclarative à l'Impôt sur le Revenu) - valant avis impôt, c'est ce qui est écrit sur le document.\\nLa fatigue et le stress ont le plus grand impact mais on ne doit pas en ignorer d'autres comme les soucis et les préoccupations de diverses natures qui sont des \"distractions\" cognitives (dans ...</td>\n",
              "      <td>. Voici quelques-unes de mes doléances à débattre :   🔴 Débattre, réformer et Voter les lois par tous les citoyens Français pour une réelle démocratie permanente (RIC en toute matière) via INTERNET,  à l'image de nos impôts qui sont réglés par ce même biais, en y rentrant des codes personelle tel que numéro de sécurité sociale, avis d'imposition ..etc..\\n(Listes exhaustive à établir pour ces 2 familles de produits)  🔴 Transparence salaires, avantages et dépenses quotidiennes de tous fonctionnaires du président au maire, avec une mise à jour chaque mois, consultable par internet par tous les citoyens français à tout moment.\\n9/ Abolition de la loi éloignement géographique volontaire qui en plus d'être anti constitutionnel, contre les droits fondamentaux de liberté de circulation, de liberté et de sécurité, maintient les femmes dans une incapacité d'emploi (immobilité professionnelle) incapacité de trouver un logement décent (limité à trouver un logement près de leur ex violent- ceux...</td>\n",
              "      <td>1/ fin de l'imposition au foyer- individuelle part de l enfant à la mère 2/abrogation de la coparentalité 2002 3/ affichage obligatoire des salaires 4/ la parité obligatoire dans les entreprise privées 5/prestation compensatoire et obligatoire non pas pendant le mariage mais dès le 1er enfant.\\n9/ Abolition de la loi éloignement géographique volontaire qui en plus d'être anti constitutionnel, contre les droits fondamentaux de liberté de circulation, de liberté et de sécurité, maintient les femmes dans une incapacité d'emploi (immobilité professionnelle) incapacité de trouver un logement décent (limité à trouver un logement près de leur ex violent- ceux utilisant egv ) sous le chantage nauséabond d'arracher les enfants aux mères.\\nLa.le titulaire ne sera pas nommé par le gouvernement ou élu, mais élu par les associations féministes, associations femmes handicapées, associations d’aides aux femmes victimes des violences conjugales.Durée de vie minimum obligatoire 50 ans, le temps de ...</td>\n",
              "      <td>Preuve est faite cependant que le dévouement pour la chose publique, mise en avant par beaucoup, passe quand même après l’attrait des sous, d’autant que les mandats de maire ou président d’agglo ne sont pas encore soumis à une limitation de renouvellement.\\nOu est l’équité lorsque les communes rurales ont vu leurs dotations se réduire plus vite que celles des villes alors même qu’elles doivent trouver des palliatifs pour permettre à leurs habitants de bénéficier de services publics ?.\\nSi de nos jour il est possible de faire atterrir une sonde sur la face cachée de la lune en la guidant depuis la terre, je pense qu’il doit être possible aussi de rapprocher les communes et les administrés des services publics et de l’administration grâce à l’informatique.\\nDans la procédure par internet c’est un nouveau passeport qui doit être établi, comme si le précédent n’avait jamais existé : c‘est stupide et parfois très malaisé, car lorsqu’on a un certain âge, et qu’il vous faut encore remonte...</td>\n",
              "      <td>A ce jour, le monde de l'entreprise évolue très vite et la qualification des demandeurs d'emplois doit être obligatoire et non négociable à partir du moment où vous avez les aptitudes pour suivre une formation sur les secteurs en tension ou la BMO est élevée.\\nIl faut redonner la main au Conseiller en Evolution Professionnelle qui suit le DE, limiter le porte feuille des DE suivis par le conseiller, arrêter de financer des organismes privés qui font le même travail qu'un CEP mais dont les objectifs peuvent parfois être d'ordre financier et non dans l'intérêt du DE.\\nLa réponse aussi tient peut être dans le parcours d'accompagnement, il faut qu'il y ait un réel dispositif avec des obligations, pour cela il faut réduire comme noté précédemment le portefeuille des DE que le CEP s'engage à suivre et faire en sorte qu'une fois identifiés les besoins du demandeur d'emplois,, un contrat d'engagement soit formalisé, si le DE ne s'y tient pas, il faut qu'il y ait une sanction.\\nLors d'une a...</td>\n",
              "      <td>L’État a décidé d’inclure tous les enfants dans un même dispositif qui serait l’école Ordinaire, cette école aurait pour mission de passer d’un enseignement collectif classique (par classe de 12 à 24 élèves) à un enseignement individualisé permettant de répondre aux besoins de chacun dans le même collectif et sur la même séquence pédagogique.\\n(Programmes qui n’existent pas encore aujourd’hui et qui n’ont pas donner lieu à la création de supports pédagogiques adaptés, ni même à un plan de formation au niveau national) L’idée n’est pas si lumineuse qu’elle y paraît, car de fait par les sigles utilisés, par les groupes composés nous sommes déjà dans une première phase de discrimination et de stigmatisation au sein de l’Ecole Ordinaire qu’ils ont déjà vécus, car rappelons-nous, tous les élèves à besoins particuliers ont pour la majorité d’entre eux été exclus de la même Ecole de la République pour se retrouver orientés depuis les années 50 dans des structures qui ont su quant à elles ...</td>\n",
              "      <td>9/ Abolition de la loi éloignement géographique volontaire qui en plus d'être anti constitutionnel, contre les droits fondamentaux de liberté de circulation, de liberté et de sécurité, maintient les femmes dans une incapacité d'emploi (immobilité professionnelle) incapacité de trouver un logement décent (limité à trouver un logement près de leur ex violent- ceux utilisant egv ) sous le chantage nauséabond d'arracher les enfants aux mères.\\nLa.le titulaire ne sera pas nommé par le gouvernement ou élu, mais élu par les associations féministes, associations femmes handicapées, associations d’aides aux femmes victimes des violences conjugales.Durée de vie minimum obligatoire 50 ans, le temps de s’assurer que les pratiques,les coutumes,lois maintenant les inégalités du aux sexes et ceux qui ne sont pas dans l'intérêt des enfants disparaissent définitivement de notre culture.\\n- ne pas pouvoir bénéficier d'une mutuelle d'entreprise (puisque plus sous contrat) - ne bénéficier d'aucuns con...</td>\n",
              "      <td>Dans cet histoire que je dois partager avec un grand nombre je pense, le travail de contrôle a été fait deux fois par la CARSAT et trois fois par la CICAS, donc un total de 5 fois pour des services qui sont physiquement dans le même immeuble.\\nLes premiers paiements CNAV ont démarré avec 3 mois de retard car il manquait des papiers x,y,z nouveaux (quand ils n'étaient pas égarés après envoi), alors que les paiements ARRCO-AGIRC ont bien démarré à temps - La CNAV a recalculé mes droits 6 ans après (en ma faveur mais sans en percevoir l'intégralité pour cause de \"prescription\") suivant une règle que je n'ai pas comprise et qui ne m'a pas été expliquée.\\nJe suis actuellement retraité CNAV non rattaché à la CARSAT Alsace-Moselle  qui eux sont \"privilégiés\" comme tous les actifs, car ils n'ont pas subi pour le démarrage du prélèvement à la source de 2019, la ponction supplémentaire sur leur retraite du mois de décembre 2018, comme nous nous l'avons eu!!, car ils sont payés en fin de mois...</td>\n",
              "      <td>. Voici quelques-unes de mes doléances à débattre :   🔴 Débattre, réformer et Voter les lois par tous les citoyens Français pour une réelle démocratie permanente (RIC en toute matière) via INTERNET,  à l'image de nos impôts qui sont réglés par ce même biais, en y rentrant des codes personelle tel que numéro de sécurité sociale, avis d'imposition ..etc..\\n(Listes exhaustive à établir pour ces 2 familles de produits)  🔴 Transparence salaires, avantages et dépenses quotidiennes de tous fonctionnaires du président au maire, avec une mise à jour chaque mois, consultable par internet par tous les citoyens français à tout moment.\\nLes neurosciences montrent aussi que ces traces sont réversibles si une thérapie sérieuse et efficace est entreprise par le parent violent ayant été victime de violences, abandon ou rejet.\\nJe souhaite donc demander que ces possibilités de travail thérapeutique en groupe ainsi que les thérapies telles que l'EMDR, l'EFT, la Gestalt thérapie, et différentes autres...</td>\n",
              "      <td>-\\tA plus long terme, maintenir ces patients dans un bon état physique et psychologique afin qu’ils puissent bénéficier dans les années à venir de nouveaux traitements (médicamenteux ou chirurgicaux) qui ne manqueront pas d’être expérimentés grâce aux progrès des neurosciences et de la médecine (rappelons que beaucoup sont jeunes et ont donc une espérance de vie conséquente).\\nLa M.D.P.H. Ses missions, son fonctionnement, ses moyens ne sont plus du tout adaptés aux réalités d’aujourd’hui : quand il y a plusieurs centaines de dossiers soumis à décision dans chaque séance, même avec les « miracles » de l’informatique, il n’est pas possible aux décideurs, d’être objectifs, compétents, efficaces – sans parler (sur Valenciennes) des dossiers pas à jour depuis 2016 – des dossiers perdus… Pourquoi, si le handicap survient à plus de 60 ans, la MDPH « ne peut rien pour vous » alors, que doit-on faire ?\\nC’est pourquoi il me paraît urgent que ce formulaire administratif -qui relève d’un décr...</td>\n",
              "      <td>Ces procédures ne se font pas tout à fait en ligne, à moins d'avoir un \"bidule\" USB d'identification hors de prix (que sans doute seules les grandes entreprises disposent): il faut imprimer les formulaires remplis sur le site et les envoyer par la Poste.\\nJe ne pense pas que cette rétroactivité est légale; en tous cas elle ne respecte aucun principe de déontologie et elle m'a causé un grave préjudice; en effet, les cotisations sociales ont pour vocation d'entrer dans le prix de revient, donc dans les devis.\\nLes nombreux courriers de protestation que je leur ai adressés à ce sujet n'ont donné lieu à aucune réponse, La Cipav a une réputation sulfureuse, très facile à constater sur le Net; il s'est même crée un association de défense des victimes de cet organisme (je n'en fais pas partie), c'est significatif!\\n9/ Abolition de la loi éloignement géographique volontaire qui en plus d'être anti constitutionnel, contre les droits fondamentaux de liberté de circulation, de liberté et de s...</td>\n",
              "      <td>Les pères perdent tout : très souvent,  il sont privés injustement de leur enfant, payent une pension,  perdent leur droits familiaux à leur travail, sursalaire familiale, CESU, congé parent alors qu'ils ont des jours à prendre pour leur enfants aussi même sans avoir la garde,  etc...\\nL'avantage pour l'entreprise doit être de pouvoir faire démarrer un nouvel entrant très rapidement sans lui donner tout de suite accès à tout ce à quoi peuvent prétendre les salariés de l'entreprise (tickets restaurants, mutuelle, CE, accord sur le temps de travail, ...) mais que tout cela soit compenser par leur valeur en salaire complémentaire.\\n1/ fin de l'imposition au foyer- individuelle part de l enfant à la mère 2/abrogation de la coparentalité 2002 3/ affichage obligatoire des salaires 4/ la parité obligatoire dans les entreprise privées 5/prestation compensatoire et obligatoire non pas pendant le mariage mais dès le 1er enfant.\\n9/ Abolition de la loi éloignement géographique volontaire qui ...</td>\n",
              "      <td>Pôle emploi m'a refusé une formation très peu couteuse formation BPE logiciel comptable d'artisan  Car je n'avais toujours travaillé dans une gde boite avec un système pacifique de compta et pour trouver du boulot cette formation m'a manqué lors de mes entretiens d'où 10 ans de petits boulots peu rémunéré Alors que j’ai connu 3 personnes qui ont fait une formation de moniteur auto-école qui ne leur absolument pas servi et beaucoup plus couteuse  Pôle emploi ne font pas les bonnes formations même quand don leur dit de laquelle on a besoin aux entretiens.\\n9/ Abolition de la loi éloignement géographique volontaire qui en plus d'être anti constitutionnel, contre les droits fondamentaux de liberté de circulation, de liberté et de sécurité, maintient les femmes dans une incapacité d'emploi (immobilité professionnelle) incapacité de trouver un logement décent (limité à trouver un logement près de leur ex violent- ceux utilisant egv ) sous le chantage nauséabond d'arracher les enfants aux...</td>\n",
              "      <td>Stop au 80 km/h sur  Cela pénalise injustement les conducteurs : temps de trajet rallongés, dépassements dangereux, camions collés aux voitures… Sans parler des radars qui flashent à tout va !\\nC’est pourquoi votre mobilisation aujourd’hui contre le 80 km/h est indispensable, comme celle de tous les conducteurs : avec toutes nos contributions, nous allons submerger les organisateurs du Grand débat.\\nSur la route, les conducteurs en font les frais tous les jours : temps de trajet rallongés, dépassements dangereux, camions collés aux voitures… Sans parler des radars qui flashent à tout va, quand ils n’ont pas été pris pour cible par des Gilets jaunes excédés !\\nSur la route, les conducteurs en font les frais tous les jours : temps de trajet rallongés, dépassements dangereux, camions collés aux voitures… Sans parler des radars qui flashent à tout va, quand ils n’ont pas été pris pour cible par des Gilets jaunes excédés !\\nC’est pourquoi votre mobilisation aujourd’hui contre le 80 km/h...</td>\n",
              "      <td>Quand j'ai fait le bilan financier de l'année 2017 de mon activité micro-entreprise, ce fut la grande surprise:  -Mon chiffre d'affaires 2017 était de 2412€ ce qui donne un montant imposable de 1592€ (34% d'abattement) -Le total des cotisations sociales 2017 s'est monté à 2194€ (Urssaf: 829€ - La Cipav: 810.94€ - RSI: 338€ - CFE: 216€ -Le Centre des Finances Publiques m'a imposé, en surcroit, un montant de 477€ sur le revenu de mon chiffre d'affaires déclaré.\\nUne mesure plus juste serait de calculer une cotisation proportionnelle au revenus des premières et, peut être, conserver la situation actuelle pour les autres si cela correspond aux nécessités d'équilibre budgétaire.\\n9/ Abolition de la loi éloignement géographique volontaire qui en plus d'être anti constitutionnel, contre les droits fondamentaux de liberté de circulation, de liberté et de sécurité, maintient les femmes dans une incapacité d'emploi (immobilité professionnelle) incapacité de trouver un logement décent (limité...</td>\n",
              "      <td>En effet il se trouve que trop souvent pour les personnes confrontées aux contraintes liées à un handicap physique ce n''est seulement qu'au sein de ces emplois dis de bureaux ou administratifs qu'il lui est possible de trouver un emploi ou il est possible d’éviter de rester debout et donc de pouvoir exercer assis pour des contraintes physiques  il se trouve malheureusement que je suis dans ce cas et que depuis 1986, je suis confronté a  cette situation qui m’oblige a ne pouvoir exercer que sur un poste en position assis.\\nEn tout et pour tout depuis 1986 jusqu’à aujourd'hui,  je n'ai pu exercer que pendant 2 ans durant toute cette période sans doute la concordance des restrictions professionnelles lies a l’handicap se rajoutant à celles liées aux discriminations dus handicap et aux discrimination raciales réunis en tout cas, c'est une réalité que je continu a subir.\\nil se trouve que la plupart des emploi fermés en plus pour cause de discrimination , on les trouve dans ceux qui pe...</td>\n",
              "      <td></td>\n",
              "    </tr>\n",
              "    <tr>\n",
              "      <th>2</th>\n",
              "      <td>L'égalité</td>\n",
              "      <td>(Voir développement ci-dessous), 4/ Rétablir le 90 km/h, régulé par les connaissances locales, 5/ Baisse forte de la taxe sur les carburants pour les zones rurales et agglomérations inférieures à 30 000 habitants, 6/ Décentralisation de la gestion de l’éducation nationale, en particulier pour le recrutement et la rémunération des personnels, sauf pour les programmes, dans le primaire, le secondaire et l’université, 7/ Développer très activement l’apprentissage dès l’âge de 15 ans, 8/ Développer une vrai politique industrielle pour la création et le retour d’industries créatrices de richesses et d’emplois, 9/ Supprimer la loi sur les 35 heures (qui à appauvri notre pays) et revenir aux 39 h, 10/  Se maintenir dans l’UE tout en faisant considérablement baisser les coûts de fonctionnement (baisser le nombre de fonctionnaire), Revoir le statut des fonctionnaires de l’UE car les salaires et avantages (dont le montant et l’âge de mise à la retraite) sont indécents au regard des salariés ...</td>\n",
              "      <td>Or l'Etat devrait avoir seul la charge de ses taxes et les redistribuer aux collectivités de manière équitables en fonction du nombre d'habitants mais en également en fonction des ses spécificités (ruralité, montagne, métropole...) car les coûts sont forcément plus importants sur un territoire rural ou de montagne que dans une métropole et pour autant la qualité de vie y est bien meilleure (les besoins en sécurité, par exemple, sont moins lourds).\\nCela n'empêche pas d'imposer la réduction des coûts des collectivités par de meilleurs conseils (et ne plus réduire le nombre de comptables publics !) et un meilleur contrôle (c'est l'effet pervers de la coupe en ressources humaines dans tous les services de l'état)...La mission doit être exercée au plus près du besoin exprimé , chaque fois que l'expertise peut y être exercée et ne peut pas être réalisée de façon plus efficace et moins coûteuse soit par une autre structure administrative mieux adaptée, ou   par une entreprise privée  ( c...</td>\n",
              "      <td>2°/ Un service public du \"déplacement\" qui aurait pour objet de développer, d'équilibrer et d'harmoniser l'offre de transport (notamment les solutions alternatives, avec des incitations) mais également de veiller à l'égalité d'accès et au moindre coût tout en respectant l'exigence de confort, de sécurité  et de qualité environnementale.les services publics en milieu rural sont de plus en plus compliqués , car de plus en plus les démarches se font par internet et dans notre pays nous avons encore des personnes qui n'ont pas accès à internet et ou qui ne savent pas utiliser ses services ( pole emploi , caf , caisse de retraite, impôts, carte grise  et maintenant les rdv médicaux ou paramédicaux..\\nOn ne peut plus aujourd'hui, rencontrer un agent des services publics, tout se fait par Internet, c'est déshumanisé, anonyme, dégradant quand on n'a pas les moyens d'avoir un ordinateur ou qu'on est en zone blanche.\\nQue les bibliothèques soient gratuites sur l'ensemble du territoire et les...</td>\n",
              "      <td>l'expression libre peut être l’apanage des services informatiques (mais toujours liés aux services publics: l'expression doit être suivie, aidée par une personne situé dans les mairies)Il est très souhaitable et fondamental, prioritaire que tout enseignant puisse saisir son témoignage sur des propos à caractère diffamatoire à son encontre, des injures à caractère antisémite voire à caractère raciste ,  à caractère sexiste et toute menace de mort à son encontre.\\nPar exemple il serait grand temps que toute enseignante et tout enseignant enseigne dans leurs cours idéalement dans la sérénité et que des délateurs cessent de professer et de vitupérer contre des enseignants puisqu'il incombe aux parents d'élèves, premiers éducateurs d'éduquer leurs enfants, leur enfant, de leur prodiguer des soins, des conseils, de leur faire \"la morale\" quand une circonstance se présente et qu'il leur est nécessaire de ne pas y déroger et de ne pas s'en dispenser même à l'école et dans les EPLE pour que...</td>\n",
              "      <td>- Rendre inconstitutionnel les doublons de compétences entre les différentes autorités communales, de syndicat de commune, de bassin de vie, de département, de région et d'Etat -Changer radicalement la politique du logement en donnant à chacun (particuliers, entreprises, collectivités locales, banques, associations, offices Hlm...) les mêmes droits et les mêmes devoirs dans le cadre d'un cahier des charges de service public pour le logement social et très social : en Allemagne c'est le cas coût moins de 10 milliards € et pas ou peu de mal logés en France coût 50 milliards et 5 millions de mal logés.\\n-                                                                                                                                                                 Le regroupement dans un même lieu de plusieurs services publics (Maisons de services au public) -                                                                                                                                 ...</td>\n",
              "      <td>On leur substitue des services privés sans réel bénéfice qualitatif et ils sont tous générateurs de coûts supplémentaires pour les  citoyens.\\nLes services publics n'ont malheureusement pas évolué de manière positive.\\nCe ne sont pas les services publics d'origine qui sont en cause mais plutôt ce qu'on en a fait.\\nC'est par des orientations mal appropriées que les services publics en sont venus à dysfonctionner.\\nDésignés comme responsables de beaucoup de maux par la vindicte populaire aidée en cela par un lynchage médiatique et appuyée par une classe politique en quête d'un cheval de bataille, les services publics ont été malmenés, vidés de leur sens et de leurs effectifs, supplantés par le privé ou même parfois désorganisés par la construction irrationnelle d'un\"mille-feuilles territorial\".\\nIl faut rétablir l'intérêt supérieur des services publics et restaurer leurs fonctions vitales !\\nIl faut garder à l'esprit que l'action des services publics garde un cap : celui de l'intérêt...</td>\n",
              "      <td>Arrêtons de remplir les journées de cours ça n'aide personne et de toute façon que ce soit de la primaire jusqu'à la Fac si vous avez 6 à 8h de cours par jour vous n'en retenez que 4 grand max, donc autant faire 4 à 5h de cours de manière efficace et en utilisant une pédagogie qui doit se baser sur l'interactivité (arrêtons en France ce système de cours dans lequel l'étudiant est passif et ce à tous les niveaux)  - Au Collège : même rythme 8h - 13h et l'après midi offrir des activités interculturels, sportives et éducatives.\\nIl faut aussi revoir la pédagogie (plutôt que de n'être que dans une attitude d'écoute et de prise de notes passive il pourrait être intéressant qu'à chaque cours les enseignants fassent pratiquer les élèves et organisent des activités interactives ou de recherches qui alterne avec l'enseignement \"pur\" pour faire plus participer les jeunes (pas juste poser des questions faire de vraies activités par exemple en Français développer par groupes une pièce de théât...</td>\n",
              "      <td>. erreur impôts.\\ndéclaration impôts.\\ndéclaration des impôts.\\nimpôts\\nimpôts\\nimpôts\\nimpôts\\nimpôts\\nimpôts\\nimpôts</td>\n",
              "      <td></td>\n",
              "      <td>Cette autonomie aura pour corrolaire d'écarter plus facilement de postes à responsabilité des fonctionnaires qui n'ont pas de bonnes capacité managériale..\\nIl faut réformer la formation initiale des enseignants, que tous soient formés au handicap et aux disparités de fonctionnement cognitifs, puisque tous ont tous les ans dans leur classe des enfants concernés, de façon visible ou non, pas des particularités.\\nDe plus, la formation spécifique profitera aussi aux enfants sans particularités puisque, plus intuitive, plus adaptée, plus personnalisée, les méthodes pédagogiques adaptées et spécialisées font leurs preuves pour tous.\\nCela passe aussi par un suivi des enseignants : seuls dans leur classe, de nombreuses dérives sont possibles.\\nIl faut donner plus d'autonomie aux fonctionnaires dans leur capacité à apprécier (de façon argumentée) les situations pour pouvoir prendre les décisions qu'ils doivent prendre.\\nUne plus grande autonomie et responsabilité des fonctionnaires devrai...</td>\n",
              "      <td>Certes il doit garantir certains avantages, mais ce n'est plus possible que certains fonctionnaires soient autant avantagés pour des raisons qui ne sont plus valables aujourd'hui.\\nJ'ai été 42 ans fonctionnaires mais je pense qu'il ne faut pas de fonctionnaires à vie  et surtout pas figés dans une seule administration mais des contractuels en cdi adaptés aux besoins réels  et plus polyvalents( compétence dans le domaine du numérique  par exemple ) qui sont prêts à évoluer, changer de postes.\\nEn collectivité locale c'est encore plus désastreux : une commune peut être empoisonnée des années durant par un fonctionnaire qui ne veut pas évoluer, indéboulonnable.\\nPar contre il convient de mieux les traiter qu'actuellement : ex à l'Education nationale des contractuels administratifs qui remplacent au smic des fonctionnaires absents, parfois même de catégorie A : ils n'ont qu'une accumulation de contrats courts , rien durant les vacances, des avances sur salaires régularisées tous les de...</td>\n",
              "      <td>**Le référendum d'initiative citoyenne doit être institué, permettant à 500 000 ciotoyen-ne-s de proposer des lois, dans le cadre du respect des traités internationaux sur les Droits de l'homme signés par la France, tels que Charte de l'ONU, accord avec l'Organisation International du Travail,  respect de l'intégrité de la personne humaine, égalité femmes/hommes, etc..\\nL'instance qui établit le libellé d'une ou plusieurs questions posées lors d'un référendum doit être démocratique, transparente et pluraliste, avec des représentants démocratiquement mandatés par tous les courants politiques représentés au Parlement, etc..\\nAlors pourquoi ne pas inventer une maison des services publics située au centre d’un territoire, d’un bassin de vie, pratique d’accès pour les habitants, avec des permanences fixes ou éventuellement ponctuelles lors de la mise en place de certaines réformes (comme le prélèvement à la source).\\n- Il faudrait également déployer les maisons médicales qui regrouperai...</td>\n",
              "      <td>Les personnes en formation avec moi n'avaient rien à faire dans cette formation car 60 pour cent d'entre eux étaient des étrangers fraichement arrivés en France qui ne maîtrisaient pas une conversation courrante alors une formation d'informatique !\\nPôle emploi : formation nulle ou pas en adéquation ; AFPA : idem ; université : peu ou rien pour les adultes : CNAM : non adapté ; les meilleures formations sont sur le terrain , face aux réalités et aussi avec la volonté de progresser; donc à ce niveau il faut se jeter à l'eau et ne plus croire aux formations parking qui ne débouchent sur rien à part faire vivre les organisations qui en vivent et les salariés et intervenant qui gravitent dans ce milieu.\\nDifficulté à faire adhérer pôle emploi à un projet de formation avec lequel le conseiller n'est pas en phase Délais d'attente entre la date d'entrée à pôle emploi et la date d'entrée en formation bcp trop long, les plus anciens inscrits sont dits prioritaires ce qui recule encore plus ...</td>\n",
              "      <td>Les directeurs d'école n'ont pas de pouvoir hiérarchique sur leur équipe d'enseignants et ne peuvent pas intervenir pour féliciter ou redresser la barre  : bilan négatif et solutions stériles face à des remarques de collègues et de parents  d'élèves débouchant sur une inertie avec un isolement de chaque enseignant qui ne compte que sur sa bonne conscience pour continuer à avoir le feu sacré ..\\nQue certaines matières qui ne sont plus proposées faute d'un nombre suffisent de candidat ou faute d'enseignant, soit proposé aux enfants prêt à s'investir avec des cours en visioconférence avec une autre classe.\\nPourquoi ne pas alléger également la présence en classe des handicaps lourds (certains troubles autistiques par exemple) car que doit faire un enseignant ou une AVS lorsqu'un enfant se met à hurler et à se taper la tête contre les murs en plein cours dans une classe de 30 élèves ?\\nPourquoi des parents conservent la tutelle d'enfants et les allocations correspondantes alors que les...</td>\n",
              "      <td>Les contacts avec son conseiller pôle emploi quand on est chômeur sont bien souvent inexistants, à quelques rares exceptions, et non individualisés.\\nJ'ai entendu que cela pourrait être introduit de manière générale à pôle emploi prochainement, mais je crains que ce soit plus pour \"fliquer\" les actions de recherches d'emploi et non pour s'en servir pour accompagner les chômeurs dans leurs efforts.\\nDe fait, je connaissais à l'époque les démarches à effectuer pour trouver un emploi et avais, bien avant notre entretien avec le conseiller pôle emploi, inondé les grands groupes du BTP de CV et lettres de motivation.\\nLes annonces pole emploi sont très largement gangrénés par de fausses offres proposées par des sites en ligne (déjà pourvues, fictives ) dont le seul but est de collecter des données personnelles.\\nJ'ai même eu certaines de mes candidatures refusées par mon conseiller pole emploi en amont de la proposition aux recruteurs sous prétexte que \"ce n'est pas dans ma branche\" (ex...</td>\n",
              "      <td>Rendons du pouvoir d’achat aux français en échange d’un départ en retraite plus progressif.\\nUne retraite par points juste et égalitaire pour tous.\\nPour une cotisation équivalente, le nombre de point est le même pour tous.\\nC’est déjà une grande avancée, mais notre espérance de vie en bonne santé ne cesse d’augmenter, alors l’âge de départ à la retraite doit  faire même.\\nPourquoi ne pas indexer l’âge légal de départ à la retraite sur l’espérance de vie.\\nMais poXXXX, il est indispensable que quand on cumule emploi et retraite.\\nLes cotisations versées donnent droit à des points de retraite supplémentaire..\\npourquoi ça se termine par du papier alors que ça démarre bien en électronique (compétence de certains agents ??) Pourquoi un mois avant sa retraite on vous demande un papier des armées comme quoi vous avez bien fait le service national qui est bien listé dans votre dossier de la CNAV  (on vous donne l'adresse à qui écrire, un grand merci aux services des archives des armées q...</td>\n",
              "      <td>Système informatique, numérisation, imprimante : Avec la diminution des budgets, les administrations, aujourd'hui en sont rendus à ne plus avoir de matériel car trop coûteux, en maintenance (exemple à la CPAM de Chartres il n'y a plus d'imprimante, on vous renvoie à la préfecture qui est en face, et la préfecture vous informe qu'il n'y a plus de matériel.\\nDe 2011 à 2016 salarié en CDI je n’ai jamais fait une demande de remboursement à la sécurité social depuis plus de 20 ans car ayant la chance de ne pas tomber malade et assumant totalement mes frais médicaux de dentiste et ophtalmologue et petites consultations chez les médecins par pur esprit Républicain afin de ne pas être responsable du gouffre de la sécurité sociale en 2016 suite à mon hospitalisation et mon passage aux urgence dont j’ai dû m’inscrire moi même en sautant sur une jambe et après avoir attendu plus de 10h les médecins désolés  se rendent compte que c’etait extrêmement grave et très douloureux on me demande ma ca...</td>\n",
              "      <td>-Voilà se qu'il faut faire pour les enfants handicapés :  -L'AEEH de base doit être accordé à tout enfant aillant un handicap reconnu à 50%  Et  -le complément accordé des que le handicap entraine  Des dépenses financières ou une nécessité parentale MR Macron,   -sans parler des parents ne pouvant travailler car quand on a 3 enfants handicapé  On ne peu pas travailler Mr le président, on doit s'occuper d'eux et de leur suivit,  Pourtant aucunes aides financières, aucunes reconnaissances!!!\\nDonc il serait intelligent de créer de nouveaux dossiers MDPH pour les familles qui se composent De non pas un mais plusieurs enfants handicapés pour que lors de la commission Les personnes puissent avoir une vue d'ensemble sur le fait qu'il y a au sain de cette famille Plusieurs enfants handicapés pour ensuite pouvoir statuer réellement sur les aides financières À accorder aux parents sur le fait qu'ils ne peuvent pas travailler.</td>\n",
              "      <td>. trop compliqué, trop long.\\ntrop compliqué, trop long et peu d'aide.\\nnon\\nnon\\nnon\\nnon\\nnon\\nnon\\nnon\\nnon</td>\n",
              "      <td></td>\n",
              "      <td></td>\n",
              "      <td></td>\n",
              "      <td></td>\n",
              "      <td></td>\n",
              "      <td>(Voir développement ci-dessous), 4/ Rétablir le 90 km/h, régulé par les connaissances locales, 5/ Baisse forte de la taxe sur les carburants pour les zones rurales et agglomérations inférieures à 30 000 habitants, 6/ Décentralisation de la gestion de l’éducation nationale, en particulier pour le recrutement et la rémunération des personnels, sauf pour les programmes, dans le primaire, le secondaire et l’université, 7/ Développer très activement l’apprentissage dès l’âge de 15 ans, 8/ Développer une vrai politique industrielle pour la création et le retour d’industries créatrices de richesses et d’emplois, 9/ Supprimer la loi sur les 35 heures (qui à appauvri notre pays) et revenir aux 39 h, 10/  Se maintenir dans l’UE tout en faisant considérablement baisser les coûts de fonctionnement (baisser le nombre de fonctionnaire), Revoir le statut des fonctionnaires de l’UE car les salaires et avantages (dont le montant et l’âge de mise à la retraite) sont indécents au regard des salariés ...</td>\n",
              "    </tr>\n",
              "    <tr>\n",
              "      <th>3</th>\n",
              "      <td>Suppression du Sénat</td>\n",
              "      <td>. Non investissez plutôt donc dans l'entreprise : Délocalisez donc dans un pays ou la maltraitance des ouvriers est permise : Virez (maltraitez) vos employés français trop protégés (quoi que ?) ; maltraitez vos employés étrangers avec l'aval du gouvernement local (salaires de misère, condition de travail déplorables, travail d'enfants,  pas de protection sociale, etc etc : le régal du pervers de base) ; maltraitez vos concurrents qui ont des scrupules en les poussant à la faillite par une concurrence déloyale ; poussez les donc à délocalisez dans les mêmes conditions déplorables.\\nDonc à ce niveau ce n'est plus de la schizophrénie, mais bien de la perversion : En fait, c'est juste de la négligence \"organisée\", voulue, mais qui accessoirement permet de faire des économies sur le pognon de dingue qu'on donne aux improductifs (quand je vois des clochards dans la rue; manifestement dépressifs, je me demande de quelle maltraitance administrative ils ont fait l'objet pour n'avoir pas été...</td>\n",
              "      <td>Ce qu’il faut également éviter : les fausses décentralisations -\\tExemples des services publics où l’Etat, sous pression des monopoles, a en apparence transféré des responsabilités aux collectivités mais en fait a conservé intégralement le monopole public en instituant un régulateur « à la botte du monopole »  -\\tAu final : dilution des responsabilités, confusion o\\tEx. les remboursements des retards sur les TER sont considérés par la SNCF indépendamment des retards sur les Grandes Lignes avec un impact direct pour les voyageurs La difficulté que pose la décentralisation est le risque d’augmentation non contrôlée de la dépense publique •\\tDans certains cas les élus dépensent sans compter en vue des élections •\\tProblème du cadre à trouver pour éviter qu’un élu local fasse n’importe quoi o\\tEx. Ville de Paris, Anne Hidalgo, qui emprunte dans des conditions où le principal devra commencer à être remboursé au début du mandat suivant en 2020 !\\nIl est anormal que l'Etat établisse des n...</td>\n",
              "      <td>Pour les « services aux français », nous avons besoin d’une supervision unique sous une haute autorité de l’ensemble de ces services (Pilotage, Organisation, Certification des Systèmes Qualité).\\nLorsque le capital appartient aux français les prestataires de services doivent s’interdire de faire des bénéfices, s’interdire de faire des pertes, s’interdire de recourir à l’emprunt (avec une souplesse de gestion de trésorerie, par exemple : en moyenne delta=0€ sur 24 mois glissants).\\nLa masse salariale de la fonction publique et des services de l’état (dont les fonctions politique) doit être une proportion du PIB, donc fluctuante en fonction de nos résultats collectifs.Un service d'urgences efficace, avec des médecins disponibles et de la place.\\nTous les agents exerçant ces missions de service public doivent être des agents de la Fonction publique, pleinement titulaire.\\nDes services ou sociétés quasi injoignables au téléphone ou au prix de nombreuses heures et payantes qui plus est ...</td>\n",
              "      <td>Avec service s'assurant que les serice du net sont bien adéquats pour répondre à tous les cas de figure.Mais surtout aucun et aucune, vos nouveaux services développés sur internet sont une catastrophe et ne répondent absolument plus à la définition d’un service public car le citoyen est tout simplement impuissant face à votre machinerie infernale.\\nLa proposition est la suivante : -\\tCréer un corps d’agents spécialisés dans l’assistance au public concerné pour utiliser les services dématérialisés d’ores et déjà mis en place par les différents services ; -\\tFaire appel au volontariat des agents des différents services pour exercer cette fonction d’assistance ; -\\tConstituer ainsi des équipes pluridisciplinaires (au niveau départemental) qui, dans un premier temps, partageront leurs connaissances respectives afin d’acquérir une compétence élargie couvrant initialement les domaines répondant aux besoins les plus courants des usagers ; -\\tDéployer ces agents d’assistance aux usagers su...</td>\n",
              "      <td>Et en plus ce sont des services privatisés donc ce ne sont plus des services publicsFaire mieux connaître toutes les dispositions ;   Le regroupement dans un même lieu de plusieurs services publics (Maisons de services au public) ; - Les services publics itinérants (bus de services publics) ; - Le service public sur prise de rendez-vous ; - Les agents publics polyvalents susceptibles de vous accompagner dans l'accomplissement de plusieurs démarches quelle que soit l'administration concernéesdans ma commune il n'existe plus qu'un relais de la poste qui fonctionne .\\n3-Les pompiers sont bénévoles et indispensable vu qu'il n'existe plus de médecins de garde ils sont très sollicités ( nuit et jour )  et il faudrait prendre en compte les années de service pour peut être acquérir des points retraite , le bénévolat a ses limites  4-Plus généralement arrêter de fermer les antennes de SMUR .hôpitaux de proximité- Le regroupement dans un même lieu de plusieurs services publics (Maisons de se...</td>\n",
              "      <td>Si la rentabilité est nécessaire au bon fonctionnement des structures de services publics, elle est cependant devenue une valeur maîtresse, régissant chaque petite activité des salariés qui y travaillent.\\nA terme, le conflit de valeurs entraine une souffrance au travail si les agents qui font face à ce conflit, ne peuvent le verbaliser correctement dans des espaces de parole qui leur seraient dédiés.\\nEn plus de devoir faire un travail \"bâclé\" à contre-coeur, les agents des services publics doivent faire face aux plaintes (et parfois insultes) de certains usagers qui n'ont pas forcément conscience de ce qui se trame en coulisse.\\nOn se retrouve alors avec une liste de RPS, dans les services publics, qui est bien trop longue et qui, petit à petit, grignote la santé mentale des salariés qui peuvent décompenser somatiquement (troubles musculo-squelettiques TMS) ou psychiquement (burn-out, fatigue compassionnelle).\\nConcernant ce qui touche à la santé, notamment les prises de Rv en li...</td>\n",
              "      <td>Améliorer le contrôle sur le respect des règles en matière d'hygiène, de santé  Améliorer les procédures d'appel d'offres publics : - garder au niveau de l'Etat et en support et collaboration avec les services des collectivités territoriales les compétences techniques et la connaissance actualisée du sujet à traiter - mettre plus de transparence au niveau des commissions de marché public - tout fonctionnaire ou politique ayant été malhonnête doit être radié à vie de ces procéduresCumul de mandats : on découvre maintenant la dérive de cette décision récente : nos députés sont déconnectés de la base :  pourquoi ne pas accepter deux fonctions : député et maire mais ne payer qu’une seule indemnité ou obligation que le député assiste au minimum deux fois par an à des réunions de conseil général pour qu’il soit au courant des problèmes de la base, bien sûr sans percevoir d’indemnité                                                                                                           ...</td>\n",
              "      <td>. déclaration impôts.\\nErreur déclaration impôts et c est les impôts qui avaient fait une erreur ils ont quand même imputer des frais de pénalités été refuser ma demande de grâce !!!\\nSuper votre droit à la erreur.\\nimpôts.\\nimpôts.\\nimpôts.\\nL'erreur c'est à partir de quelle somme ?\\nTapie, il a le droit à l'erreur ?\\nEt Balkany ?\\nLe droit à l'erreur doit être réservé au plus faibles économiquement mais vous instituez cette nouvelle entourloupe pour avantager encore les plus nantis.\\nLe pauvre pourra faire une erreur de 500€ et le riche une erreur de 500 millions d'€ !\\nVoilà le but de votre droit à l'erreur..\\nerreur sur des frais réels sur déclaration impôts sur le revenus, je m'en étais redu compte l'année suivante en faisant la nouvelle déclaration.\\nerreur de déclaration fiscale.\\nErreur de déclaration impôts.\\nerreur sur déclaration d'impôt</td>\n",
              "      <td>Comment expliquer que le code du travail est aussi complexe...parce que les patrons cherchent sans cesse à détourner les règles pour se gaver encore plus sur le dos des salariés…..alors on complexifie de plus en plus.\\nune autorisation de chassée les oies cendrées au delà de délai légal fixée par une directive européenne tout ça pour satisfaire l'incapacité du Président de la République de dire non au petit million de chasseurs qui font la pluie et le beau temps dans nos territoires.\\nPourquoi ne pas agir pénalement contre les personnes concernées, et les empêcher de nuire au lieu de faire peser des règles contraignantes sur toute une partie de la population ?\\nJ'ai plutôt l'impression que depuis quelques années, au nom de principes, des règles sont imposées à tout le corps social, et le pénalise, pour tenter de régler des situations marginales, au lieu de prendre des dispositions, et de mettre les moyens humains pour lutter directement contre les problèmes qui doivent être traités...</td>\n",
              "      <td>. Donner plus d'autonomie aux fonctionnaires de terrain présente le risque de créer des inégalités entre les citoyens.\\nCependant la diversité des situations  nécessite que les fonctionnaires y apportent des solutions les plus adaptées, les plus pertinentes ce qui exigerait qu'ils bénéficient d'une plus grande autonomie d'appréciation.\\nLa solution passe par une plus grande décentralisation qui permettrait de « régionaliser » le fonctionnement des administrations au plus près des intérêts des citoyens.\\nMais plus de contrôle, de management: les fonctionnaires inutile, qui ne font pas le travail doivent être licenciés.\\nfaire beaucoup plus confiance et plus responsabilisé  le fonctionnaire de terrain.\\nA l'Administration de s'organiser pour être plus efficace, plus rapide, plus simple, plus compréhensible.\\nCeci dit, on ne peut pas être contre, la responsabilisation des agents de terrains....\\nToute nouvelle norme doit supprimer toutes les anciennes et être plus courte, plus simple,...</td>\n",
              "      <td>Mais on peut imaginer aussi l'instauration d'un CDI de droit publique comprenant des sujétions particulières pour l'agent, notamment une clause de \"non concurrence\" à l'issu de son contrat pour limiter le pantouflage, en contrepartie les conditions de licenciements seraient automatiquement sous contrôle du juge administratif pour éviter les licenciements arbitraires ou de pure convenance sur des postes qui ne devraient pas y être soumis.\\n•\\tPerformance sociale : nous devons faire en sorte que chaque citoyen trouve sa place et y excelle dans une communauté nationale apaisée ; c’est entre autres l’obligation d’un taux de chômage inférieur à 5% du nombre des actifs à un horizon proche, par exemple cinq ans •\\tPerformance environnementale : la France peut avoir l’ambition de faire émerger les acteurs les plus performants au monde permettant par des solutions technologiques diversifiées un accès universel à l’énergie, la réduction des précarités énergétiques, la diminution des risques,...</td>\n",
              "      <td>ect.)  -que les fonctionnaires de tous types paient leurs frais professionnels comme en suèdes avec factures ect et pour toutes les sommes remboursées et de plus de 5 000qu’elles soient vérifiées par une commission comptable avec acceptation de cette dernière et rendre responsable la commission si non respectées par des amendes très fortes.\\n-que tous les tableaux, art ect soit taxés aussi à 35%   JUSTICE  -Faire une justice comme en Amérique et que les peines soient plus sévères donc revoir les lois et mettre des lois draconiennes sur un élu ou fonctionnaire ils ont des droits et bien donnons leurs des devoirs.\\n-Que les fonctionnaires de l’éducation nationale fassent leur temps de travail payés sur leur bulletin de salaire dans l’établissement même pour corriger le devoir des élèves (combien font du travail au noir et à un prix exorbitant en dehors de leur établissement donc 2 fois payés  -pouvoir licencier tous fonctionnaire de plus de 1 an sur liste de chômeur dans le public (v...</td>\n",
              "      <td>ect.)  -que les fonctionnaires de tous types paient leurs frais professionnels comme en suèdes avec factures ect et pour toutes les sommes remboursées et de plus de 5 000qu’elles soient vérifiées par une commission comptable avec acceptation de cette dernière et rendre responsable la commission si non respectées par des amendes très fortes.\\n-que tous les tableaux, art ect soit taxés aussi à 35%   JUSTICE  -Faire une justice comme en Amérique et que les peines soient plus sévères donc revoir les lois et mettre des lois draconiennes sur un élu ou fonctionnaire ils ont des droits et bien donnons leurs des devoirs.\\nj'ai une expérience de plusieurs années en restauration et je voulais la concrétiser par un CAP, j'ai fait les démarches toute seule, cependant je n'ai pas été retenue, je pense que ces deux personnes, quand j'ai expliqué cela à ma conseillère pôle emploi, elle m'a dit qu'elle ne comprenait pas et que j'avais le profil pour postuler à cette formation, elle a contacté le GR...</td>\n",
              "      <td>Risque systémique de ne pas faire face à l’autonomie exigée brutalement tant des enfants que de leurs parents ; seul le capital social et scolaire des parents est une ressource pour les enfants, et seuls ceux qui en sont dépourvus font réellement face à ce risque, inégalité majeure.\\nLes professeurs des lycées professionnels qui enseignent tous deux disciplines (français-histoire-géographie, français-langues, mathématiques-sciences, etc), de même que les professeurs certifiés qui accepteront de ne pas rester centrés exclusivement sur la transmission d’un savoir disciplinaire, auront leur place dans des établissements conçus autour de projets pédagogiques adaptés à leur territoire et à la diversité des enfants et de leurs familles.\\nect.)  -que les fonctionnaires de tous types paient leurs frais professionnels comme en suèdes avec factures ect et pour toutes les sommes remboursées et de plus de 5 000qu’elles soient vérifiées par une commission comptable avec acceptation de cette der...</td>\n",
              "      <td>IL FAUT RELANCER L'INDUSTRIE DU BATIMENT POUR LES PARTICULIERS, QUE LES NORMES PMR SOIENT REELLEMENT ADAPTEES (chez moi les ampoules sont au plafond, éviers et lavabos en résine et non en inox ou faïence par exemple facilement lavables et désinfectables, passages trop étroits en fauteuil, mais tout est de plain pied sans tapis ni moquette ni rideau et lavable avec jardin, le luxe, en location, je me suis retrouvé en mobile home 2 mois en plein été pour trouver cette maison en location exceptionnelle dans cette catégorie).\\nJe suis à la recherche d'un travail actuellement mais juste sur ma ville, car je n'ai plus de voiture et pas les moyens d'en avoir une, de plus j'ai des animaux donc pas la possibilité de loger ailleurs que chez moi (je vis seule) ...</td>\n",
              "      <td>Des délais beaucoup trop longs pour régulariser un dossier de retraite avec la CARSAT (plus d '1 an, sachant que le dossier était très simple à gérer: 42 ans dans la même entreprise!) et des difficultés pour obtenir des renseignements!\\nle droit à l'information fonctionne très mal et se révèle dangereux car il balaye sous la forme d'une estimation indicative globale (EIG)  les trimestres d'assurance  acquis sans mise à jour vérifiée et donc  le calcul du montant de la pension est fantaisiste ; les caisses de retraite ne communiquent pas hormis via des sites très compliqués et peu fiables , les employeurs n'y connaissent pas grand chose et chaque employeur instruit le dossier de son salarié pour la caisse de retraite où il a lui aussi cotisé , le salarié doit se débrouiller seul pour valider vérifier et demander sa pension aux différentes caisses où il aura cotisé sans même le savoir parfois .\\nLe fonctionnement de ce service est surprenant : - on demande 5 ans à l'avance de vérifie...</td>\n",
              "      <td>Il est bien évident que ce problème de remboursements ne se pose pas dans les mêmes termes selon que vous résidez en Espagne ou Portugal, et aux USA, dans ces pays de l'UE, les soins de santé et leurs coûts sont comparables à la France et de plus, leurs proximités géographiques autorisent facilement un rapatriement en France dans des cas particuliers.\\n- 3 ) Cotisations  \" MEDICARE \" assurance santé des retraités aux USA :   Il faut avoir cotisé 10 ans avant sa retraite pour bénéficier de cette assurance, mais n'ayant jamais travaillé ni cotisé aux USA, nous sommes donc dans l'obligation de \"racheter des points\", ce qui impacte terriblement les premiums mensuels :   -  Part A  ( Hospitalisation ) : plus de $ 500 par mois et par personne.\\n- 4 ) Cotisations assurances santé privées Françaises :   Gravitent autour de la CFE tout un tas d'assurances privées proches de l'escroquerie qui proposent des compléments d'assurance à des taux inabordables, en 2003 nous avions souscrit un contr...</td>\n",
              "      <td>MDPH : « Une institution qui a vocation d’aider les familles et non de les appauvrir »   - Augmenter la base horaire PCH d’aide humaine à 100% du smic horaire net, quelque que soit le statut (avec activité professionnelle partielle ou sans activité professionnelle)  Cotiser au chômage à la santé et à l’allocation retraite lorsque l’on touche la PCH aide hu-maine ou l’AEEH et son complément  Imposer une égalité d’allocation AEEH et/ou PCH dans tous les départements (aides hu-maines, aides techniques).\\n Ne refaire un dossier MDPH pour un enfant que tous les 4 ans en cas d’invalidité à partir de 50% sauf en cas de changement signalé par la famille et le médecin  La non-imposition de la PCH pour les aides humaines des aidants familiaux.\\nTravail et Aidants-familiaux :  « Cessons la descente aux enfers »   Tout employeur qui acceptera l’aménagement d’un contrat de travail d’un aidant-familial bénéficiera d’une baisse des charges patronales sur le salaire de l’employé pendant tout...</td>\n",
              "      <td>. il y a trop de formalités, trop d'aides trop éparpillés...\\nil faut SIMPLIFIER.\\nbeaucoup trop de norme et trop complexe.\\nnon\\nnon\\nnon\\nnon\\nnon\\nnon\\nnon\\nnon</td>\n",
              "      <td></td>\n",
              "      <td></td>\n",
              "      <td></td>\n",
              "      <td></td>\n",
              "      <td></td>\n",
              "      <td>Au 21ème siècle, dans le pays des Droits de l’homme, ne serait-il pas temps d’être plus efficace en matière de PREVENTION et de PROTECTION de TOUS les enfants: s’assurer que les futurs parents auront toutes les chances de ne pas nuire à leurs enfants  équilibre psychologique, addictions, revenu stable suffisant, économies, logement, vivent-ils ensemble depuis au moins 3 ans (durée minimum qui permet d’avoir un aperçu de la vraie personnalité de la personne qu’on croit aimer), souhaitent-ils tous les deux cette grossesse, etc.\\nECOLOGIE ELECTRICITE VITRINES ENSEIGNES éclairage en dehors des heures d’ouverture: cela fait des années que nous demandons, en vain, l'arrêt de ce gaspillage d'électricité par certains \"responsables\" d'entreprises irresponsables, égoïstes et méprisants en matière de protection de l’environnement, ce qui concerne la SANTE future de nos enfants (écologie): (a)--- interdire cette pratique, (b)--- AMENDE montant dissuasif (montant doublé chaque fois en cas de ré...</td>\n",
              "    </tr>\n",
              "  </tbody>\n",
              "</table>\n",
              "</div>"
            ],
            "text/plain": [
              "                          title  ...                                                                                                                                                                                                                                                                                                                                                                                                                                                                                                                                                                                                                                                                                                                                                                                                                                                                                         QUXVlc3Rpb246MTg5 - Y a-t-il d'autres points sur l'organisation de l'Etat et des services publics sur lesquels vous souhaiteriez vous exprimer ?\n",
              "0                 Les avantages  ...  Pour moi, le projet doit être celui de construire une société meilleure:  - focalisée sur la qualité de vie et non l'accumulation de biens matériels inutiles; - plus juste et égalitaire, tous ayant les mêmes chances, mais aussi dans l'ensemble des situations comparables ou en tout cas pas trop dissimilaires (au débat de déterminer quelle fourchette est acceptable).\\nMacron, de ses engagements et des mesures prises jusqu'ici – qui me semblent pour l'essentiel et dans l'ensemble refléter une vision particulièrement rétrograde de la croissance et de la production matérielle comme unique salut; de marchés parfaitement efficients; d'entreprises spontanément altruistes; un défenseur de la pure politique libérale de l'offre à la Thatcher qui n'a pas quarante ans d'âge mais bien quarante ans de retard, alors que même les temples du libéralisme que sont l'OCDE et le FMI reconnaissent désormais depuis des années que ces politiques sont contreproductives même de leur strict point de vue de la...\n",
              "1  suppression des départements  ...                                                                                                                                                                                                                                                                                                                                                                                                                                                                                                                                                                                                                                                                                                                                                                                                                                                                                                                                                                                                                                         \n",
              "2                     L'égalité  ...  (Voir développement ci-dessous), 4/ Rétablir le 90 km/h, régulé par les connaissances locales, 5/ Baisse forte de la taxe sur les carburants pour les zones rurales et agglomérations inférieures à 30 000 habitants, 6/ Décentralisation de la gestion de l’éducation nationale, en particulier pour le recrutement et la rémunération des personnels, sauf pour les programmes, dans le primaire, le secondaire et l’université, 7/ Développer très activement l’apprentissage dès l’âge de 15 ans, 8/ Développer une vrai politique industrielle pour la création et le retour d’industries créatrices de richesses et d’emplois, 9/ Supprimer la loi sur les 35 heures (qui à appauvri notre pays) et revenir aux 39 h, 10/  Se maintenir dans l’UE tout en faisant considérablement baisser les coûts de fonctionnement (baisser le nombre de fonctionnaire), Revoir le statut des fonctionnaires de l’UE car les salaires et avantages (dont le montant et l’âge de mise à la retraite) sont indécents au regard des salariés ...\n",
              "3          Suppression du Sénat  ...  Au 21ème siècle, dans le pays des Droits de l’homme, ne serait-il pas temps d’être plus efficace en matière de PREVENTION et de PROTECTION de TOUS les enfants: s’assurer que les futurs parents auront toutes les chances de ne pas nuire à leurs enfants  équilibre psychologique, addictions, revenu stable suffisant, économies, logement, vivent-ils ensemble depuis au moins 3 ans (durée minimum qui permet d’avoir un aperçu de la vraie personnalité de la personne qu’on croit aimer), souhaitent-ils tous les deux cette grossesse, etc.\\nECOLOGIE ELECTRICITE VITRINES ENSEIGNES éclairage en dehors des heures d’ouverture: cela fait des années que nous demandons, en vain, l'arrêt de ce gaspillage d'électricité par certains \"responsables\" d'entreprises irresponsables, égoïstes et méprisants en matière de protection de l’environnement, ce qui concerne la SANTE future de nos enfants (écologie): (a)--- interdire cette pratique, (b)--- AMENDE montant dissuasif (montant doublé chaque fois en cas de ré...\n",
              "\n",
              "[4 rows x 26 columns]"
            ]
          },
          "metadata": {
            "tags": []
          },
          "execution_count": 67
        }
      ]
    },
    {
      "cell_type": "code",
      "metadata": {
        "id": "QvPii5H8uhvL",
        "colab_type": "code",
        "colab": {}
      },
      "source": [
        ""
      ],
      "execution_count": 0,
      "outputs": []
    }
  ]
}